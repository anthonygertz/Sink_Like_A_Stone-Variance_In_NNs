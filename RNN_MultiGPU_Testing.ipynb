{
 "cells": [
  {
   "cell_type": "code",
   "execution_count": 1,
   "id": "moving-necklace",
   "metadata": {},
   "outputs": [],
   "source": [
    "import pandas as pd\n",
    "import numpy as np\n",
    "import matplotlib.pyplot as plt\n",
    "\n",
    "from datetime import datetime \n",
    "import time\n",
    "\n",
    "import warnings\n",
    "warnings.filterwarnings('ignore',category=FutureWarning)\n",
    "\n",
    "from sklearn.model_selection import RandomizedSearchCV\n",
    "from sklearn.model_selection import RepeatedStratifiedKFold\n",
    "from sklearn.model_selection import train_test_split\n",
    "from sklearn.metrics import accuracy_score\n",
    "from sklearn.metrics import mean_absolute_error\n",
    "from sklearn.metrics import mean_squared_error\n",
    "from sklearn.preprocessing import PowerTransformer, MinMaxScaler, PolynomialFeatures\n",
    "from sklearn.compose import ColumnTransformer, TransformedTargetRegressor\n",
    "from sklearn.pipeline import Pipeline\n",
    "\n",
    "import tensorflow as tf\n",
    "from tensorflow import keras\n",
    "\n",
    "from tensorflow.keras.layers import Dense\n",
    "from tensorflow.keras import layers\n",
    "from tensorflow.keras.models import Sequential, load_model\n",
    "from tensorflow.keras.metrics import RootMeanSquaredError\n",
    "#from tensorflow.keras.utils import multi_gpu_model"
   ]
  },
  {
   "cell_type": "code",
   "execution_count": 2,
   "id": "a7b80612",
   "metadata": {},
   "outputs": [],
   "source": [
    "pd.set_option('display.max_columns', 500)"
   ]
  },
  {
   "cell_type": "code",
   "execution_count": 3,
   "id": "absolute-lyric",
   "metadata": {},
   "outputs": [
    {
     "data": {
      "text/plain": [
       "[PhysicalDevice(name='/physical_device:GPU:0', device_type='GPU'),\n",
       " PhysicalDevice(name='/physical_device:GPU:1', device_type='GPU')]"
      ]
     },
     "execution_count": 3,
     "metadata": {},
     "output_type": "execute_result"
    }
   ],
   "source": [
    "tf.config.list_physical_devices('GPU')"
   ]
  },
  {
   "cell_type": "code",
   "execution_count": 4,
   "id": "hearing-favorite",
   "metadata": {},
   "outputs": [
    {
     "data": {
      "text/plain": [
       "[PhysicalDevice(name='/physical_device:CPU:0', device_type='CPU'),\n",
       " PhysicalDevice(name='/physical_device:XLA_CPU:0', device_type='XLA_CPU'),\n",
       " PhysicalDevice(name='/physical_device:GPU:0', device_type='GPU'),\n",
       " PhysicalDevice(name='/physical_device:GPU:1', device_type='GPU'),\n",
       " PhysicalDevice(name='/physical_device:XLA_GPU:0', device_type='XLA_GPU'),\n",
       " PhysicalDevice(name='/physical_device:XLA_GPU:1', device_type='XLA_GPU')]"
      ]
     },
     "execution_count": 4,
     "metadata": {},
     "output_type": "execute_result"
    }
   ],
   "source": [
    "tf.config.experimental.list_physical_devices(device_type = None)"
   ]
  },
  {
   "cell_type": "code",
   "execution_count": null,
   "id": "norwegian-raise",
   "metadata": {},
   "outputs": [],
   "source": []
  },
  {
   "cell_type": "code",
   "execution_count": 5,
   "id": "c7deddb7",
   "metadata": {},
   "outputs": [],
   "source": [
    "#TF_XLA_FLAGS=--tf_xla_auto_jit=2 path/to/your/tf/program"
   ]
  },
  {
   "cell_type": "code",
   "execution_count": 6,
   "id": "dated-cholesterol",
   "metadata": {},
   "outputs": [],
   "source": [
    "#CUDA_VISIBLE_DEVICES = 0"
   ]
  },
  {
   "cell_type": "code",
   "execution_count": 7,
   "id": "legislative-mumbai",
   "metadata": {},
   "outputs": [],
   "source": [
    "train = pd.read_csv('data/train.csv')\n",
    "test = pd.read_csv('data/test.csv')"
   ]
  },
  {
   "cell_type": "code",
   "execution_count": 8,
   "id": "direct-writer",
   "metadata": {},
   "outputs": [],
   "source": [
    "full_columns = train.columns.tolist()"
   ]
  },
  {
   "cell_type": "code",
   "execution_count": 9,
   "id": "caroline-working",
   "metadata": {},
   "outputs": [],
   "source": [
    "full_columns.remove('permeability')"
   ]
  },
  {
   "cell_type": "code",
   "execution_count": 10,
   "id": "legislative-technician",
   "metadata": {},
   "outputs": [],
   "source": [
    "X = pd.DataFrame(train, columns = full_columns)\n",
    "\n",
    "y = train['permeability']"
   ]
  },
  {
   "cell_type": "code",
   "execution_count": 215,
   "id": "musical-gambling",
   "metadata": {},
   "outputs": [],
   "source": [
    "X_train, X_true, y_train, y_true = train_test_split(\n",
    "    X, y, random_state = 8669, test_size = 0.30\n",
    ")"
   ]
  },
  {
   "cell_type": "code",
   "execution_count": 216,
   "id": "improved-elevation",
   "metadata": {},
   "outputs": [],
   "source": [
    "ct = ColumnTransformer(transformers = [\n",
    "    ('yeo-johnson', PowerTransformer(), full_columns),\n",
    "], remainder = 'passthrough')\n",
    "\n",
    "pipe = Pipeline(steps = [\n",
    "    ('transform', ct),\n",
    "    ('scale', MinMaxScaler())\n",
    "])"
   ]
  },
  {
   "cell_type": "code",
   "execution_count": 217,
   "id": "broken-enough",
   "metadata": {},
   "outputs": [],
   "source": [
    "X_train = pipe.fit_transform(X_train)\n",
    "X_true = pipe.transform(X_true)"
   ]
  },
  {
   "cell_type": "code",
   "execution_count": 218,
   "id": "20e2bdda",
   "metadata": {},
   "outputs": [],
   "source": [
    "#strategy = tf.distribute.MirroredStrategy(devices=[\"/gpu:0\", \"/gpu:1\"], \n",
    "                                          #cross_device_ops=tf.distribute.HierarchicalCopyAllReduce())\n",
    "                                          #cross_device_ops=tf.distribute.ReductionToOneDevice())\n",
    "   \n",
    "\n"
   ]
  },
  {
   "cell_type": "code",
   "execution_count": 219,
   "id": "13d4451f",
   "metadata": {},
   "outputs": [
    {
     "name": "stdout",
     "output_type": "stream",
     "text": [
      "WARNING:tensorflow:Collective ops is not configured at program startup. Some performance features may not be enabled.\n",
      "INFO:tensorflow:Using MirroredStrategy with devices ('/job:localhost/replica:0/task:0/device:GPU:0',)\n"
     ]
    }
   ],
   "source": [
    "cross_tower_ops = tf.distribute.HierarchicalCopyAllReduce()\n",
    "\n",
    "strategy = tf.distribute.MirroredStrategy(devices = ['/gpu:0'], cross_device_ops = cross_tower_ops)"
   ]
  },
  {
   "cell_type": "code",
   "execution_count": 220,
   "id": "874b8b36",
   "metadata": {},
   "outputs": [],
   "source": [
    "loss = 'mean_squared_error'"
   ]
  },
  {
   "cell_type": "code",
   "execution_count": 221,
   "id": "bronze-cleaner",
   "metadata": {},
   "outputs": [],
   "source": [
    "#with strategy.scope():\n",
    "with tf.device('/gpu:0'):\n",
    "    model = Sequential()\n",
    "\n",
    "    #model.add(Dense(64,activation=ks.layers.LeakyReLU(alpha = 0.01)))\n",
    "    model.add(Dense(32, activation = 'relu'))\n",
    "    model.add(Dense(32, activation = 'relu'))\n",
    "    model.add(Dense(1, activation='linear'))\n",
    "    \n",
    "    model.compile(loss = loss, optimizer = 'adam', metrics = ['mse'])"
   ]
  },
  {
   "cell_type": "code",
   "execution_count": null,
   "id": "a5204f20",
   "metadata": {},
   "outputs": [],
   "source": []
  },
  {
   "cell_type": "code",
   "execution_count": null,
   "id": "75867923",
   "metadata": {},
   "outputs": [],
   "source": []
  },
  {
   "cell_type": "code",
   "execution_count": 18,
   "id": "detailed-defendant",
   "metadata": {},
   "outputs": [],
   "source": [
    "#es = EarlyStopping(monitor = 'loss', patience = 25, restore_best_weights = True)\n",
    "#mc = ModelCheckpoint(filepath = 'test_model.h5', monitor = 'loss', save_best_only=True)\n",
    "#X_es_train, X_es_test, y_es_train, y_es_test = train_test_split(X_train, y_train, test_size = 0.25, random_state = 8669)"
   ]
  },
  {
   "cell_type": "code",
   "execution_count": null,
   "id": "documented-antigua",
   "metadata": {},
   "outputs": [],
   "source": []
  },
  {
   "cell_type": "code",
   "execution_count": 19,
   "id": "e7cdf4e6",
   "metadata": {},
   "outputs": [],
   "source": [
    "#Creates a dataframe by which we will eventually put in our list created above\n",
    "model_record = pd.DataFrame(columns = ['model_num', 'loss_type','time','mae','mse', 'rmse'])"
   ]
  },
  {
   "cell_type": "code",
   "execution_count": 222,
   "id": "728eb3ae",
   "metadata": {},
   "outputs": [],
   "source": [
    "#Declares a start time to began keeping time\n",
    "start_time = datetime.now()\n",
    "\n",
    "#Temporary list to hold values of the recorded time and other model values\n",
    "record_list = list()\n",
    "predict_record = pd.DataFrame(columns = [])"
   ]
  },
  {
   "cell_type": "code",
   "execution_count": null,
   "id": "15080c27",
   "metadata": {},
   "outputs": [],
   "source": []
  },
  {
   "cell_type": "code",
   "execution_count": 223,
   "id": "welsh-posting",
   "metadata": {
    "scrolled": false
   },
   "outputs": [
    {
     "name": "stdout",
     "output_type": "stream",
     "text": [
      "Epoch 1/5\n",
      "274/274 [==============================] - 1s 2ms/step - loss: 23.5119 - mse: 23.5119\n",
      "Epoch 2/5\n",
      "274/274 [==============================] - 1s 2ms/step - loss: 3.5539 - mse: 3.5539\n",
      "Epoch 3/5\n",
      "274/274 [==============================] - 1s 2ms/step - loss: 2.3466 - mse: 2.3466\n",
      "Epoch 4/5\n",
      "274/274 [==============================] - 1s 2ms/step - loss: 2.0036 - mse: 2.0036\n",
      "Epoch 5/5\n",
      "274/274 [==============================] - 1s 2ms/step - loss: 1.7743 - mse: 1.7743\n"
     ]
    }
   ],
   "source": [
    "with tf.device('/gpu:0'):\n",
    "    history = model.fit(x = X_train,y = y_train.values,\n",
    "                          batch_size = 64, epochs = 5)"
   ]
  },
  {
   "cell_type": "code",
   "execution_count": 224,
   "id": "accredited-berkeley",
   "metadata": {},
   "outputs": [],
   "source": [
    "record_list.extend([len(model_record)+1,\n",
    "                    loss, \n",
    "                    format(datetime.now() - start_time), \n",
    "                    mean_absolute_error(y_true, model.predict(X_test)), \n",
    "                    mean_squared_error(y_true, model.predict(X_test)), \n",
    "                    np.sqrt(mean_squared_error(y_true, model.predict(X_test)))\n",
    "                   ])"
   ]
  },
  {
   "cell_type": "code",
   "execution_count": 225,
   "id": "ce845589",
   "metadata": {},
   "outputs": [],
   "source": [
    "model_record.loc[len(model_record)] = record_list"
   ]
  },
  {
   "cell_type": "code",
   "execution_count": 226,
   "id": "4067b3f4",
   "metadata": {},
   "outputs": [],
   "source": [
    "y_pred = model.predict(X_true)"
   ]
  },
  {
   "cell_type": "code",
   "execution_count": null,
   "id": "986a7be8",
   "metadata": {},
   "outputs": [],
   "source": []
  },
  {
   "cell_type": "code",
   "execution_count": 227,
   "id": "ba5dddae",
   "metadata": {},
   "outputs": [],
   "source": [
    "y_true_df = pd.DataFrame(y_true).reset_index(drop = True)\n",
    "y_pred_df = pd.DataFrame(model.predict(X_true))"
   ]
  },
  {
   "cell_type": "code",
   "execution_count": 228,
   "id": "9b6c8791",
   "metadata": {},
   "outputs": [],
   "source": [
    "#y_test_df.reset_index(inplace = True, drop = True)"
   ]
  },
  {
   "cell_type": "code",
   "execution_count": 229,
   "id": "14d7bf23",
   "metadata": {},
   "outputs": [
    {
     "data": {
      "text/html": [
       "<div>\n",
       "<style scoped>\n",
       "    .dataframe tbody tr th:only-of-type {\n",
       "        vertical-align: middle;\n",
       "    }\n",
       "\n",
       "    .dataframe tbody tr th {\n",
       "        vertical-align: top;\n",
       "    }\n",
       "\n",
       "    .dataframe thead th {\n",
       "        text-align: right;\n",
       "    }\n",
       "</style>\n",
       "<table border=\"1\" class=\"dataframe\">\n",
       "  <thead>\n",
       "    <tr style=\"text-align: right;\">\n",
       "      <th></th>\n",
       "      <th>permeability</th>\n",
       "    </tr>\n",
       "  </thead>\n",
       "  <tbody>\n",
       "    <tr>\n",
       "      <th>0</th>\n",
       "      <td>5.181770</td>\n",
       "    </tr>\n",
       "    <tr>\n",
       "      <th>1</th>\n",
       "      <td>4.555260</td>\n",
       "    </tr>\n",
       "    <tr>\n",
       "      <th>2</th>\n",
       "      <td>21.224200</td>\n",
       "    </tr>\n",
       "    <tr>\n",
       "      <th>3</th>\n",
       "      <td>0.787535</td>\n",
       "    </tr>\n",
       "    <tr>\n",
       "      <th>4</th>\n",
       "      <td>7.719570</td>\n",
       "    </tr>\n",
       "    <tr>\n",
       "      <th>...</th>\n",
       "      <td>...</td>\n",
       "    </tr>\n",
       "    <tr>\n",
       "      <th>7495</th>\n",
       "      <td>1.291720</td>\n",
       "    </tr>\n",
       "    <tr>\n",
       "      <th>7496</th>\n",
       "      <td>0.189488</td>\n",
       "    </tr>\n",
       "    <tr>\n",
       "      <th>7497</th>\n",
       "      <td>0.774052</td>\n",
       "    </tr>\n",
       "    <tr>\n",
       "      <th>7498</th>\n",
       "      <td>11.322600</td>\n",
       "    </tr>\n",
       "    <tr>\n",
       "      <th>7499</th>\n",
       "      <td>2.105430</td>\n",
       "    </tr>\n",
       "  </tbody>\n",
       "</table>\n",
       "<p>7500 rows × 1 columns</p>\n",
       "</div>"
      ],
      "text/plain": [
       "      permeability\n",
       "0         5.181770\n",
       "1         4.555260\n",
       "2        21.224200\n",
       "3         0.787535\n",
       "4         7.719570\n",
       "...            ...\n",
       "7495      1.291720\n",
       "7496      0.189488\n",
       "7497      0.774052\n",
       "7498     11.322600\n",
       "7499      2.105430\n",
       "\n",
       "[7500 rows x 1 columns]"
      ]
     },
     "execution_count": 229,
     "metadata": {},
     "output_type": "execute_result"
    }
   ],
   "source": [
    "y_true_df"
   ]
  },
  {
   "cell_type": "code",
   "execution_count": 230,
   "id": "bfe0a437",
   "metadata": {},
   "outputs": [
    {
     "data": {
      "text/html": [
       "<div>\n",
       "<style scoped>\n",
       "    .dataframe tbody tr th:only-of-type {\n",
       "        vertical-align: middle;\n",
       "    }\n",
       "\n",
       "    .dataframe tbody tr th {\n",
       "        vertical-align: top;\n",
       "    }\n",
       "\n",
       "    .dataframe thead th {\n",
       "        text-align: right;\n",
       "    }\n",
       "</style>\n",
       "<table border=\"1\" class=\"dataframe\">\n",
       "  <thead>\n",
       "    <tr style=\"text-align: right;\">\n",
       "      <th></th>\n",
       "      <th>0</th>\n",
       "    </tr>\n",
       "  </thead>\n",
       "  <tbody>\n",
       "    <tr>\n",
       "      <th>0</th>\n",
       "      <td>6.337451</td>\n",
       "    </tr>\n",
       "    <tr>\n",
       "      <th>1</th>\n",
       "      <td>4.793790</td>\n",
       "    </tr>\n",
       "    <tr>\n",
       "      <th>2</th>\n",
       "      <td>21.588863</td>\n",
       "    </tr>\n",
       "    <tr>\n",
       "      <th>3</th>\n",
       "      <td>0.972080</td>\n",
       "    </tr>\n",
       "    <tr>\n",
       "      <th>4</th>\n",
       "      <td>8.536937</td>\n",
       "    </tr>\n",
       "    <tr>\n",
       "      <th>...</th>\n",
       "      <td>...</td>\n",
       "    </tr>\n",
       "    <tr>\n",
       "      <th>7495</th>\n",
       "      <td>1.714464</td>\n",
       "    </tr>\n",
       "    <tr>\n",
       "      <th>7496</th>\n",
       "      <td>0.202058</td>\n",
       "    </tr>\n",
       "    <tr>\n",
       "      <th>7497</th>\n",
       "      <td>1.001985</td>\n",
       "    </tr>\n",
       "    <tr>\n",
       "      <th>7498</th>\n",
       "      <td>11.964213</td>\n",
       "    </tr>\n",
       "    <tr>\n",
       "      <th>7499</th>\n",
       "      <td>2.265205</td>\n",
       "    </tr>\n",
       "  </tbody>\n",
       "</table>\n",
       "<p>7500 rows × 1 columns</p>\n",
       "</div>"
      ],
      "text/plain": [
       "              0\n",
       "0      6.337451\n",
       "1      4.793790\n",
       "2     21.588863\n",
       "3      0.972080\n",
       "4      8.536937\n",
       "...         ...\n",
       "7495   1.714464\n",
       "7496   0.202058\n",
       "7497   1.001985\n",
       "7498  11.964213\n",
       "7499   2.265205\n",
       "\n",
       "[7500 rows x 1 columns]"
      ]
     },
     "execution_count": 230,
     "metadata": {},
     "output_type": "execute_result"
    }
   ],
   "source": [
    "y_pred_df"
   ]
  },
  {
   "cell_type": "code",
   "execution_count": 212,
   "id": "ad3a294d",
   "metadata": {},
   "outputs": [
    {
     "data": {
      "text/html": [
       "<div>\n",
       "<style scoped>\n",
       "    .dataframe tbody tr th:only-of-type {\n",
       "        vertical-align: middle;\n",
       "    }\n",
       "\n",
       "    .dataframe tbody tr th {\n",
       "        vertical-align: top;\n",
       "    }\n",
       "\n",
       "    .dataframe thead th {\n",
       "        text-align: right;\n",
       "    }\n",
       "</style>\n",
       "<table border=\"1\" class=\"dataframe\">\n",
       "  <thead>\n",
       "    <tr style=\"text-align: right;\">\n",
       "      <th></th>\n",
       "      <th>permeability</th>\n",
       "    </tr>\n",
       "  </thead>\n",
       "  <tbody>\n",
       "    <tr>\n",
       "      <th>0</th>\n",
       "      <td>5.181770</td>\n",
       "    </tr>\n",
       "    <tr>\n",
       "      <th>1</th>\n",
       "      <td>4.555260</td>\n",
       "    </tr>\n",
       "    <tr>\n",
       "      <th>2</th>\n",
       "      <td>21.224200</td>\n",
       "    </tr>\n",
       "    <tr>\n",
       "      <th>3</th>\n",
       "      <td>0.787535</td>\n",
       "    </tr>\n",
       "    <tr>\n",
       "      <th>4</th>\n",
       "      <td>7.719570</td>\n",
       "    </tr>\n",
       "    <tr>\n",
       "      <th>...</th>\n",
       "      <td>...</td>\n",
       "    </tr>\n",
       "    <tr>\n",
       "      <th>7495</th>\n",
       "      <td>1.291720</td>\n",
       "    </tr>\n",
       "    <tr>\n",
       "      <th>7496</th>\n",
       "      <td>0.189488</td>\n",
       "    </tr>\n",
       "    <tr>\n",
       "      <th>7497</th>\n",
       "      <td>0.774052</td>\n",
       "    </tr>\n",
       "    <tr>\n",
       "      <th>7498</th>\n",
       "      <td>11.322600</td>\n",
       "    </tr>\n",
       "    <tr>\n",
       "      <th>7499</th>\n",
       "      <td>2.105430</td>\n",
       "    </tr>\n",
       "  </tbody>\n",
       "</table>\n",
       "<p>7500 rows × 1 columns</p>\n",
       "</div>"
      ],
      "text/plain": [
       "      permeability\n",
       "0         5.181770\n",
       "1         4.555260\n",
       "2        21.224200\n",
       "3         0.787535\n",
       "4         7.719570\n",
       "...            ...\n",
       "7495      1.291720\n",
       "7496      0.189488\n",
       "7497      0.774052\n",
       "7498     11.322600\n",
       "7499      2.105430\n",
       "\n",
       "[7500 rows x 1 columns]"
      ]
     },
     "execution_count": 212,
     "metadata": {},
     "output_type": "execute_result"
    }
   ],
   "source": [
    "y_test_df"
   ]
  },
  {
   "cell_type": "code",
   "execution_count": null,
   "id": "1dd7804f",
   "metadata": {},
   "outputs": [],
   "source": []
  },
  {
   "cell_type": "code",
   "execution_count": null,
   "id": "b17c2e32",
   "metadata": {},
   "outputs": [],
   "source": []
  },
  {
   "cell_type": "code",
   "execution_count": null,
   "id": "de46dee9",
   "metadata": {},
   "outputs": [],
   "source": []
  },
  {
   "cell_type": "code",
   "execution_count": null,
   "id": "e2a72067",
   "metadata": {},
   "outputs": [],
   "source": []
  },
  {
   "cell_type": "code",
   "execution_count": 206,
   "id": "9976966a",
   "metadata": {},
   "outputs": [],
   "source": [
    "predict_record = pd.concat([predict_record, y_true_df], axis = 1)"
   ]
  },
  {
   "cell_type": "code",
   "execution_count": 208,
   "id": "404155fa",
   "metadata": {},
   "outputs": [],
   "source": [
    "predict_record = pd.concat([predict_record, y_pred_df], axis = 1)"
   ]
  },
  {
   "cell_type": "markdown",
   "id": "f399ab55",
   "metadata": {},
   "source": [
    "Loss Type\n",
    "Accuracy\n",
    "Mean Absolute Error\n",
    "Mean Square Error\n",
    "Root Mean Squared Error\n",
    "\n",
    "Accuracy? \n",
    "\n"
   ]
  },
  {
   "cell_type": "code",
   "execution_count": 209,
   "id": "960bbbac",
   "metadata": {},
   "outputs": [
    {
     "data": {
      "text/html": [
       "<div>\n",
       "<style scoped>\n",
       "    .dataframe tbody tr th:only-of-type {\n",
       "        vertical-align: middle;\n",
       "    }\n",
       "\n",
       "    .dataframe tbody tr th {\n",
       "        vertical-align: top;\n",
       "    }\n",
       "\n",
       "    .dataframe thead th {\n",
       "        text-align: right;\n",
       "    }\n",
       "</style>\n",
       "<table border=\"1\" class=\"dataframe\">\n",
       "  <thead>\n",
       "    <tr style=\"text-align: right;\">\n",
       "      <th></th>\n",
       "      <th>0</th>\n",
       "      <th>1</th>\n",
       "    </tr>\n",
       "  </thead>\n",
       "  <tbody>\n",
       "    <tr>\n",
       "      <th>0</th>\n",
       "      <td>5.181770</td>\n",
       "      <td>5.681249</td>\n",
       "    </tr>\n",
       "    <tr>\n",
       "      <th>1</th>\n",
       "      <td>4.555260</td>\n",
       "      <td>4.446689</td>\n",
       "    </tr>\n",
       "    <tr>\n",
       "      <th>2</th>\n",
       "      <td>21.224200</td>\n",
       "      <td>22.785587</td>\n",
       "    </tr>\n",
       "    <tr>\n",
       "      <th>3</th>\n",
       "      <td>0.787535</td>\n",
       "      <td>0.830394</td>\n",
       "    </tr>\n",
       "    <tr>\n",
       "      <th>4</th>\n",
       "      <td>7.719570</td>\n",
       "      <td>7.406282</td>\n",
       "    </tr>\n",
       "    <tr>\n",
       "      <th>...</th>\n",
       "      <td>...</td>\n",
       "      <td>...</td>\n",
       "    </tr>\n",
       "    <tr>\n",
       "      <th>7495</th>\n",
       "      <td>1.291720</td>\n",
       "      <td>1.378931</td>\n",
       "    </tr>\n",
       "    <tr>\n",
       "      <th>7496</th>\n",
       "      <td>0.189488</td>\n",
       "      <td>0.034193</td>\n",
       "    </tr>\n",
       "    <tr>\n",
       "      <th>7497</th>\n",
       "      <td>0.774052</td>\n",
       "      <td>0.677342</td>\n",
       "    </tr>\n",
       "    <tr>\n",
       "      <th>7498</th>\n",
       "      <td>11.322600</td>\n",
       "      <td>10.584839</td>\n",
       "    </tr>\n",
       "    <tr>\n",
       "      <th>7499</th>\n",
       "      <td>2.105430</td>\n",
       "      <td>2.172194</td>\n",
       "    </tr>\n",
       "  </tbody>\n",
       "</table>\n",
       "<p>7500 rows × 2 columns</p>\n",
       "</div>"
      ],
      "text/plain": [
       "              0          1\n",
       "0      5.181770   5.681249\n",
       "1      4.555260   4.446689\n",
       "2     21.224200  22.785587\n",
       "3      0.787535   0.830394\n",
       "4      7.719570   7.406282\n",
       "...         ...        ...\n",
       "7495   1.291720   1.378931\n",
       "7496   0.189488   0.034193\n",
       "7497   0.774052   0.677342\n",
       "7498  11.322600  10.584839\n",
       "7499   2.105430   2.172194\n",
       "\n",
       "[7500 rows x 2 columns]"
      ]
     },
     "execution_count": 209,
     "metadata": {},
     "output_type": "execute_result"
    }
   ],
   "source": [
    "predict_record"
   ]
  },
  {
   "cell_type": "code",
   "execution_count": 29,
   "id": "69ce9f89",
   "metadata": {},
   "outputs": [
    {
     "data": {
      "text/plain": [
       "0.6830927143413164"
      ]
     },
     "execution_count": 29,
     "metadata": {},
     "output_type": "execute_result"
    }
   ],
   "source": [
    "mean_absolute_error(y_test, model.predict(X_test))"
   ]
  },
  {
   "cell_type": "code",
   "execution_count": 30,
   "id": "built-january",
   "metadata": {},
   "outputs": [
    {
     "data": {
      "text/plain": [
       "1.766487190124079"
      ]
     },
     "execution_count": 30,
     "metadata": {},
     "output_type": "execute_result"
    }
   ],
   "source": [
    "mean_squared_error(y_test, model.predict(X_test))"
   ]
  },
  {
   "cell_type": "code",
   "execution_count": 31,
   "id": "arctic-secretariat",
   "metadata": {},
   "outputs": [
    {
     "data": {
      "text/plain": [
       "1.3290926190917167"
      ]
     },
     "execution_count": 31,
     "metadata": {},
     "output_type": "execute_result"
    }
   ],
   "source": [
    "np.sqrt(mean_squared_error(y_test, model.predict(X_test)))"
   ]
  },
  {
   "cell_type": "code",
   "execution_count": null,
   "id": "7de8800c",
   "metadata": {},
   "outputs": [],
   "source": []
  },
  {
   "cell_type": "code",
   "execution_count": 32,
   "id": "sought-debut",
   "metadata": {},
   "outputs": [],
   "source": [
    "#def rmse(predictions, targets): \n",
    "#    return np.sqrt(mean_squared_error(predictions, targets))\n",
    "\n",
    "#rmse(y_test, y_pred)"
   ]
  },
  {
   "cell_type": "code",
   "execution_count": null,
   "id": "a8ba1e3c",
   "metadata": {},
   "outputs": [],
   "source": []
  },
  {
   "cell_type": "code",
   "execution_count": null,
   "id": "99dc73a0",
   "metadata": {},
   "outputs": [],
   "source": []
  },
  {
   "cell_type": "code",
   "execution_count": null,
   "id": "83f3c15d",
   "metadata": {},
   "outputs": [],
   "source": []
  },
  {
   "cell_type": "code",
   "execution_count": null,
   "id": "3f1cd8f2",
   "metadata": {},
   "outputs": [],
   "source": []
  },
  {
   "cell_type": "code",
   "execution_count": 33,
   "id": "7ea51477",
   "metadata": {},
   "outputs": [],
   "source": [
    "#X = pipe.fit_transform(X)"
   ]
  },
  {
   "cell_type": "code",
   "execution_count": 34,
   "id": "conscious-contemporary",
   "metadata": {},
   "outputs": [],
   "source": [
    "#test = pipe.transform(test)"
   ]
  },
  {
   "cell_type": "code",
   "execution_count": 35,
   "id": "later-ordinary",
   "metadata": {},
   "outputs": [],
   "source": [
    "#results = model.predict(test)"
   ]
  },
  {
   "cell_type": "code",
   "execution_count": 36,
   "id": "expanded-shade",
   "metadata": {},
   "outputs": [],
   "source": [
    "#results.shape"
   ]
  },
  {
   "cell_type": "code",
   "execution_count": 37,
   "id": "impossible-personal",
   "metadata": {},
   "outputs": [],
   "source": [
    "#test_results = pd.DataFrame()"
   ]
  },
  {
   "cell_type": "code",
   "execution_count": 38,
   "id": "finite-registration",
   "metadata": {},
   "outputs": [],
   "source": [
    "#results = pd.DataFrame(results)"
   ]
  },
  {
   "cell_type": "code",
   "execution_count": 39,
   "id": "useful-referral",
   "metadata": {},
   "outputs": [],
   "source": [
    "#test_results['permeability'] = results[0]"
   ]
  },
  {
   "cell_type": "code",
   "execution_count": 40,
   "id": "reported-joseph",
   "metadata": {},
   "outputs": [],
   "source": [
    "#test_results.to_csv('data/nn/nn_results_reproduce2.csv', index_label = 'id')"
   ]
  }
 ],
 "metadata": {
  "kernelspec": {
   "display_name": "Python 3",
   "language": "python",
   "name": "python3"
  },
  "language_info": {
   "codemirror_mode": {
    "name": "ipython",
    "version": 3
   },
   "file_extension": ".py",
   "mimetype": "text/x-python",
   "name": "python",
   "nbconvert_exporter": "python",
   "pygments_lexer": "ipython3",
   "version": "3.9.5"
  }
 },
 "nbformat": 4,
 "nbformat_minor": 5
}
