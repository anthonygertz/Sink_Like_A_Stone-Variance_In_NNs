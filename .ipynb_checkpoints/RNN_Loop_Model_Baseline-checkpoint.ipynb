{
 "cells": [
  {
   "cell_type": "code",
   "execution_count": 110,
   "id": "moving-necklace",
   "metadata": {},
   "outputs": [],
   "source": [
    "import pandas as pd\n",
    "import numpy as np\n",
    "\n",
    "from datetime import datetime \n",
    "import time\n",
    "\n",
    "import warnings\n",
    "warnings.filterwarnings('ignore',category=FutureWarning)\n",
    "\n",
    "from sklearn.metrics import max_error\n",
    "from sklearn.metrics import mean_absolute_error\n",
    "from sklearn.metrics import mean_squared_error\n",
    "from sklearn.metrics import r2_score\n",
    "from sklearn.model_selection import train_test_split\n",
    "\n",
    "import tensorflow as tf\n",
    "from tensorflow import keras\n",
    "\n",
    "from tensorflow.keras import layers\n",
    "from tensorflow.keras.layers import Dense\n",
    "from tensorflow.keras.models import Sequential, load_model"
   ]
  },
  {
   "cell_type": "code",
   "execution_count": 111,
   "id": "absolute-lyric",
   "metadata": {},
   "outputs": [
    {
     "data": {
      "text/plain": [
       "[PhysicalDevice(name='/physical_device:GPU:0', device_type='GPU'),\n",
       " PhysicalDevice(name='/physical_device:GPU:1', device_type='GPU')]"
      ]
     },
     "execution_count": 111,
     "metadata": {},
     "output_type": "execute_result"
    }
   ],
   "source": [
    "tf.config.list_physical_devices('GPU')"
   ]
  },
  {
   "cell_type": "code",
   "execution_count": 112,
   "id": "hearing-favorite",
   "metadata": {},
   "outputs": [
    {
     "data": {
      "text/plain": [
       "[PhysicalDevice(name='/physical_device:CPU:0', device_type='CPU'),\n",
       " PhysicalDevice(name='/physical_device:XLA_CPU:0', device_type='XLA_CPU'),\n",
       " PhysicalDevice(name='/physical_device:GPU:0', device_type='GPU'),\n",
       " PhysicalDevice(name='/physical_device:GPU:1', device_type='GPU'),\n",
       " PhysicalDevice(name='/physical_device:XLA_GPU:0', device_type='XLA_GPU'),\n",
       " PhysicalDevice(name='/physical_device:XLA_GPU:1', device_type='XLA_GPU')]"
      ]
     },
     "execution_count": 112,
     "metadata": {},
     "output_type": "execute_result"
    }
   ],
   "source": [
    "tf.config.experimental.list_physical_devices(device_type = None)"
   ]
  },
  {
   "cell_type": "code",
   "execution_count": 113,
   "id": "legislative-mumbai",
   "metadata": {},
   "outputs": [],
   "source": [
    "train = pd.read_csv('data/train.csv')\n",
    "test = pd.read_csv('data/test.csv')"
   ]
  },
  {
   "cell_type": "code",
   "execution_count": 114,
   "id": "direct-writer",
   "metadata": {},
   "outputs": [],
   "source": [
    "full_columns = train.columns.tolist()"
   ]
  },
  {
   "cell_type": "code",
   "execution_count": 115,
   "id": "caroline-working",
   "metadata": {},
   "outputs": [],
   "source": [
    "full_columns.remove('permeability')"
   ]
  },
  {
   "cell_type": "code",
   "execution_count": 116,
   "id": "legislative-technician",
   "metadata": {},
   "outputs": [],
   "source": [
    "X = pd.DataFrame(train, columns = full_columns)\n",
    "\n",
    "y = train['permeability']"
   ]
  },
  {
   "cell_type": "code",
   "execution_count": 117,
   "id": "musical-gambling",
   "metadata": {},
   "outputs": [],
   "source": [
    "X_train, X_true, y_train, y_true = train_test_split(\n",
    "    X, y, random_state = 8669, test_size = 0.25\n",
    ")"
   ]
  },
  {
   "cell_type": "code",
   "execution_count": 333,
   "id": "874b8b36",
   "metadata": {},
   "outputs": [],
   "source": [
    "#Declare the number of model iterations we will run \n",
    "test_iterations = 2\n",
    "\n",
    "#Declare the number of hidden layers to add\n",
    "layers = 4\n",
    "\n",
    "#Declare the density of the hidden layers\n",
    "density = 128\n",
    "\n",
    "#Declare the type of activation for the hidden layers\n",
    "activation = 'relu'\n",
    "\n",
    "#Assign the loss function the model will use to train\n",
    "loss = 'mean_squared_error'\n",
    "\n",
    "#Declare the batch size for use in the model\n",
    "batch_size = 64\n",
    "\n",
    "#Declare the maximum number of epochs for our model\n",
    "epochs = 3"
   ]
  },
  {
   "cell_type": "code",
   "execution_count": 334,
   "id": "bronze-cleaner",
   "metadata": {},
   "outputs": [],
   "source": [
    "#Assigns the computation to be performed via GPU Device:0\n",
    "with tf.device('/gpu:0'):\n",
    "    model = Sequential()\n",
    "\n",
    "    #Creates a for loop that will add the number of layers based on the variable declared in the previous cell    \n",
    "    for i in range(layers):\n",
    "        #Adds a model layer with density and activation based on the variables declared in the previous cell\n",
    "        model.add(Dense(density, activation = activation))\n",
    "    \n",
    "    model.add(Dense(1, activation='linear'))\n",
    "    \n",
    "    model.compile(loss = loss, optimizer = 'adam', metrics = ['mse'])"
   ]
  },
  {
   "cell_type": "code",
   "execution_count": 335,
   "id": "detailed-defendant",
   "metadata": {},
   "outputs": [],
   "source": [
    "#es = EarlyStopping(monitor = 'loss', patience = 25, restore_best_weights = True)\n",
    "#mc = ModelCheckpoint(filepath = 'test_model.h5', monitor = 'loss', save_best_only=True)\n",
    "#X_es_train, X_es_test, y_es_train, y_es_test = train_test_split(X_train, y_train, test_size = 0.25, random_state = 8669)"
   ]
  },
  {
   "cell_type": "code",
   "execution_count": 336,
   "id": "e7cdf4e6",
   "metadata": {},
   "outputs": [],
   "source": [
    "#Creates a dataframe by which we will eventually put in our list created above\n",
    "model_record = pd.DataFrame(columns = ['model_num', 'loss_type', 'time', 'r2', 'mae', 'mse', 'rmse', 'max_error'])\n",
    "\n",
    "#Creates a dataframe by which our model's predicted values and true values will be stored\n",
    "predict_record = pd.DataFrame(y_true).reset_index(drop = True)\n",
    "\n",
    "#Creates a numpy array by which the for loop will use to count model runs and is then used to name df columns\n",
    "model_counter = np.array([0])"
   ]
  },
  {
   "cell_type": "code",
   "execution_count": 337,
   "id": "098002c2",
   "metadata": {},
   "outputs": [
    {
     "name": "stdout",
     "output_type": "stream",
     "text": [
      "Epoch 1/3\n",
      "274/274 [==============================] - 3s 12ms/step - loss: 22.3122 - mse: 22.3122\n",
      "Epoch 2/3\n",
      "274/274 [==============================] - 3s 12ms/step - loss: 3.2234 - mse: 3.2234\n",
      "Epoch 3/3\n",
      "274/274 [==============================] - 3s 11ms/step - loss: 2.6087 - mse: 2.6087\n",
      "Epoch 1/3\n",
      "274/274 [==============================] - 3s 11ms/step - loss: 3.2693 - mse: 3.2693\n",
      "Epoch 2/3\n",
      "274/274 [==============================] - 3s 11ms/step - loss: 2.4225 - mse: 2.4225\n",
      "Epoch 3/3\n",
      "274/274 [==============================] - 3s 12ms/step - loss: 2.7231 - mse: 2.7231\n"
     ]
    }
   ],
   "source": [
    "#Assigns the computation to be performed via GPU Device:0\n",
    "with tf.device('/gpu:0'):\n",
    "    \n",
    "#Performs model training repeatedly based on the variable declared previously    \n",
    "    for i in range(test_iterations):\n",
    "        model.compile(loss = loss, optimizer = 'adam', metrics = ['mse'])\n",
    "\n",
    "        #Creates an empty list for storing model metrics and other information \n",
    "        record_list = list() \n",
    "        #Starts a counter that adds 1 everytime a fitting is performed\n",
    "        model_counter = model_counter + 1\n",
    "        #Starts a timer to end after the round of fitting is complete\n",
    "        start_time = datetime.now()\n",
    "        \n",
    "        #Fits our model/batch_size and epochs are declared previously\n",
    "        model.fit(x = X_train, y = y_train.values, \n",
    "                  batch_size = batch_size, epochs = epochs)\n",
    "        \n",
    "        #Saves our model predictions\n",
    "        y_pred = model.predict(X_true)\n",
    "        \n",
    "        #Saves our model run #, time to run, and model metrics to our temporary list\n",
    "        record_list.extend([len(model_record)+1,\n",
    "                            loss, \n",
    "                            format(datetime.now() - start_time),\n",
    "                            r2_score(y_true, y_pred),\n",
    "                            mean_absolute_error(y_true, y_pred), \n",
    "                            mean_squared_error(y_true, y_pred), \n",
    "                            np.sqrt(mean_squared_error(y_true, y_pred)), \n",
    "                            max_error(y_true, y_pred)\n",
    "                           ])        \n",
    "        \n",
    "        #Adds the temporary list of model metrics (etc) to the end of a dataframe\n",
    "        model_record.loc[len(model_record)] = record_list\n",
    "        \n",
    "        #Converts our predictions to a dataframe so it will play nice\n",
    "        y_pred_df = pd.DataFrame(y_pred)\n",
    "        \n",
    "        #Adds predictions as a column to the end of a dataframe and names is accordingly\n",
    "        predict_record = pd.concat([predict_record, y_pred_df], axis = 1)\n",
    "        predict_record = predict_record.rename(columns = {0 : 'm' + str(model_counter[0])})\n",
    "        \n",
    "        #Calculates the residual values for each prediction and stores it as a dataframe \n",
    "        residuals_df = pd.DataFrame(abs(predict_record.iloc[:,len(predict_record.columns)-1] - predict_record.iloc[:,0]))\n",
    "        \n",
    "        #Adds y residuals as a column to the end of a dataframe and names is accordingly\n",
    "        predict_record = pd.concat([predict_record, residuals_df], axis = 1)\n",
    "        predict_record = predict_record.rename(columns = {0 : 'res' + str(model_counter[0])})"
   ]
  },
  {
   "cell_type": "code",
   "execution_count": 338,
   "id": "affa6aaf",
   "metadata": {},
   "outputs": [
    {
     "data": {
      "text/html": [
       "<div>\n",
       "<style scoped>\n",
       "    .dataframe tbody tr th:only-of-type {\n",
       "        vertical-align: middle;\n",
       "    }\n",
       "\n",
       "    .dataframe tbody tr th {\n",
       "        vertical-align: top;\n",
       "    }\n",
       "\n",
       "    .dataframe thead th {\n",
       "        text-align: right;\n",
       "    }\n",
       "</style>\n",
       "<table border=\"1\" class=\"dataframe\">\n",
       "  <thead>\n",
       "    <tr style=\"text-align: right;\">\n",
       "      <th></th>\n",
       "      <th>model_num</th>\n",
       "      <th>loss_type</th>\n",
       "      <th>time</th>\n",
       "      <th>r2</th>\n",
       "      <th>mae</th>\n",
       "      <th>mse</th>\n",
       "      <th>rmse</th>\n",
       "      <th>max_error</th>\n",
       "    </tr>\n",
       "  </thead>\n",
       "  <tbody>\n",
       "    <tr>\n",
       "      <th>0</th>\n",
       "      <td>1</td>\n",
       "      <td>mean_squared_error</td>\n",
       "      <td>0:00:10.143274</td>\n",
       "      <td>0.935792</td>\n",
       "      <td>0.935586</td>\n",
       "      <td>4.885278</td>\n",
       "      <td>2.210266</td>\n",
       "      <td>22.329377</td>\n",
       "    </tr>\n",
       "    <tr>\n",
       "      <th>1</th>\n",
       "      <td>2</td>\n",
       "      <td>mean_squared_error</td>\n",
       "      <td>0:00:10.100265</td>\n",
       "      <td>0.982783</td>\n",
       "      <td>0.504617</td>\n",
       "      <td>1.309935</td>\n",
       "      <td>1.144524</td>\n",
       "      <td>20.857359</td>\n",
       "    </tr>\n",
       "  </tbody>\n",
       "</table>\n",
       "</div>"
      ],
      "text/plain": [
       "  model_num           loss_type            time        r2       mae       mse  \\\n",
       "0         1  mean_squared_error  0:00:10.143274  0.935792  0.935586  4.885278   \n",
       "1         2  mean_squared_error  0:00:10.100265  0.982783  0.504617  1.309935   \n",
       "\n",
       "       rmse  max_error  \n",
       "0  2.210266  22.329377  \n",
       "1  1.144524  20.857359  "
      ]
     },
     "execution_count": 338,
     "metadata": {},
     "output_type": "execute_result"
    }
   ],
   "source": [
    "model_record"
   ]
  },
  {
   "cell_type": "code",
   "execution_count": 339,
   "id": "welsh-posting",
   "metadata": {
    "scrolled": true
   },
   "outputs": [
    {
     "data": {
      "text/html": [
       "<div>\n",
       "<style scoped>\n",
       "    .dataframe tbody tr th:only-of-type {\n",
       "        vertical-align: middle;\n",
       "    }\n",
       "\n",
       "    .dataframe tbody tr th {\n",
       "        vertical-align: top;\n",
       "    }\n",
       "\n",
       "    .dataframe thead th {\n",
       "        text-align: right;\n",
       "    }\n",
       "</style>\n",
       "<table border=\"1\" class=\"dataframe\">\n",
       "  <thead>\n",
       "    <tr style=\"text-align: right;\">\n",
       "      <th></th>\n",
       "      <th>permeability</th>\n",
       "      <th>m1</th>\n",
       "      <th>res1</th>\n",
       "      <th>m2</th>\n",
       "      <th>res2</th>\n",
       "    </tr>\n",
       "  </thead>\n",
       "  <tbody>\n",
       "    <tr>\n",
       "      <th>0</th>\n",
       "      <td>5.181770</td>\n",
       "      <td>5.883117</td>\n",
       "      <td>0.701347</td>\n",
       "      <td>5.839814</td>\n",
       "      <td>0.658044</td>\n",
       "    </tr>\n",
       "    <tr>\n",
       "      <th>1</th>\n",
       "      <td>4.555260</td>\n",
       "      <td>5.317620</td>\n",
       "      <td>0.762360</td>\n",
       "      <td>5.215045</td>\n",
       "      <td>0.659785</td>\n",
       "    </tr>\n",
       "    <tr>\n",
       "      <th>2</th>\n",
       "      <td>21.224200</td>\n",
       "      <td>24.989389</td>\n",
       "      <td>3.765189</td>\n",
       "      <td>20.695509</td>\n",
       "      <td>0.528691</td>\n",
       "    </tr>\n",
       "    <tr>\n",
       "      <th>3</th>\n",
       "      <td>0.787535</td>\n",
       "      <td>0.411944</td>\n",
       "      <td>0.375591</td>\n",
       "      <td>0.421174</td>\n",
       "      <td>0.366361</td>\n",
       "    </tr>\n",
       "    <tr>\n",
       "      <th>4</th>\n",
       "      <td>7.719570</td>\n",
       "      <td>8.250360</td>\n",
       "      <td>0.530790</td>\n",
       "      <td>8.039955</td>\n",
       "      <td>0.320385</td>\n",
       "    </tr>\n",
       "    <tr>\n",
       "      <th>...</th>\n",
       "      <td>...</td>\n",
       "      <td>...</td>\n",
       "      <td>...</td>\n",
       "      <td>...</td>\n",
       "      <td>...</td>\n",
       "    </tr>\n",
       "    <tr>\n",
       "      <th>7495</th>\n",
       "      <td>1.291720</td>\n",
       "      <td>1.412444</td>\n",
       "      <td>0.120724</td>\n",
       "      <td>1.402342</td>\n",
       "      <td>0.110622</td>\n",
       "    </tr>\n",
       "    <tr>\n",
       "      <th>7496</th>\n",
       "      <td>0.189488</td>\n",
       "      <td>0.257418</td>\n",
       "      <td>0.067930</td>\n",
       "      <td>0.313389</td>\n",
       "      <td>0.123901</td>\n",
       "    </tr>\n",
       "    <tr>\n",
       "      <th>7497</th>\n",
       "      <td>0.774052</td>\n",
       "      <td>0.660407</td>\n",
       "      <td>0.113645</td>\n",
       "      <td>0.674692</td>\n",
       "      <td>0.099360</td>\n",
       "    </tr>\n",
       "    <tr>\n",
       "      <th>7498</th>\n",
       "      <td>11.322600</td>\n",
       "      <td>12.417261</td>\n",
       "      <td>1.094661</td>\n",
       "      <td>11.124081</td>\n",
       "      <td>0.198519</td>\n",
       "    </tr>\n",
       "    <tr>\n",
       "      <th>7499</th>\n",
       "      <td>2.105430</td>\n",
       "      <td>1.934253</td>\n",
       "      <td>0.171177</td>\n",
       "      <td>1.926376</td>\n",
       "      <td>0.179054</td>\n",
       "    </tr>\n",
       "  </tbody>\n",
       "</table>\n",
       "<p>7500 rows × 5 columns</p>\n",
       "</div>"
      ],
      "text/plain": [
       "      permeability         m1      res1         m2      res2\n",
       "0         5.181770   5.883117  0.701347   5.839814  0.658044\n",
       "1         4.555260   5.317620  0.762360   5.215045  0.659785\n",
       "2        21.224200  24.989389  3.765189  20.695509  0.528691\n",
       "3         0.787535   0.411944  0.375591   0.421174  0.366361\n",
       "4         7.719570   8.250360  0.530790   8.039955  0.320385\n",
       "...            ...        ...       ...        ...       ...\n",
       "7495      1.291720   1.412444  0.120724   1.402342  0.110622\n",
       "7496      0.189488   0.257418  0.067930   0.313389  0.123901\n",
       "7497      0.774052   0.660407  0.113645   0.674692  0.099360\n",
       "7498     11.322600  12.417261  1.094661  11.124081  0.198519\n",
       "7499      2.105430   1.934253  0.171177   1.926376  0.179054\n",
       "\n",
       "[7500 rows x 5 columns]"
      ]
     },
     "execution_count": 339,
     "metadata": {},
     "output_type": "execute_result"
    }
   ],
   "source": [
    "predict_record"
   ]
  },
  {
   "cell_type": "code",
   "execution_count": 340,
   "id": "ce845589",
   "metadata": {},
   "outputs": [
    {
     "name": "stdout",
     "output_type": "stream",
     "text": [
      "Model: \"sequential_10\"\n",
      "_________________________________________________________________\n",
      "Layer (type)                 Output Shape              Param #   \n",
      "=================================================================\n",
      "dense_32 (Dense)             (None, 128)               37376     \n",
      "_________________________________________________________________\n",
      "dense_33 (Dense)             (None, 128)               16512     \n",
      "_________________________________________________________________\n",
      "dense_34 (Dense)             (None, 128)               16512     \n",
      "_________________________________________________________________\n",
      "dense_35 (Dense)             (None, 128)               16512     \n",
      "_________________________________________________________________\n",
      "dense_36 (Dense)             (None, 1)                 129       \n",
      "=================================================================\n",
      "Total params: 87,041\n",
      "Trainable params: 87,041\n",
      "Non-trainable params: 0\n",
      "_________________________________________________________________\n"
     ]
    }
   ],
   "source": [
    "#Nifty call to confirm our variables were properly inputted into our model\n",
    "model.summary()"
   ]
  },
  {
   "cell_type": "code",
   "execution_count": 207,
   "id": "4067b3f4",
   "metadata": {},
   "outputs": [],
   "source": [
    "#model_record.to_csv('data/rnn_results_1.csv')\n",
    "#predict_record.to_csv('data/rnn_predictions_1.csv')"
   ]
  }
 ],
 "metadata": {
  "kernelspec": {
   "display_name": "Python 3",
   "language": "python",
   "name": "python3"
  },
  "language_info": {
   "codemirror_mode": {
    "name": "ipython",
    "version": 3
   },
   "file_extension": ".py",
   "mimetype": "text/x-python",
   "name": "python",
   "nbconvert_exporter": "python",
   "pygments_lexer": "ipython3",
   "version": "3.9.5"
  }
 },
 "nbformat": 4,
 "nbformat_minor": 5
}
