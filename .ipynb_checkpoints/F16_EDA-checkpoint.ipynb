{
 "cells": [
  {
   "cell_type": "code",
   "execution_count": 20,
   "id": "moving-necklace",
   "metadata": {},
   "outputs": [],
   "source": [
    "import pandas as pd\n",
    "import numpy as np\n",
    "import matplotlib.pyplot as plt\n",
    "import seaborn as sn"
   ]
  },
  {
   "cell_type": "code",
   "execution_count": 21,
   "id": "a7b80612",
   "metadata": {},
   "outputs": [],
   "source": [
    "pd.set_option('display.max_columns', 500)"
   ]
  },
  {
   "cell_type": "markdown",
   "id": "2fc8ea6f",
   "metadata": {},
   "source": [
    "2 - 19.2 N  \n",
    "3 - 28.8 N  \n",
    "4 - 57.6 N  \n",
    "5 - 67.0 N  \n",
    "6 - 86.0 N  \n",
    "7 - 95.6 N"
   ]
  },
  {
   "cell_type": "code",
   "execution_count": 22,
   "id": "absolute-lyric",
   "metadata": {},
   "outputs": [],
   "source": [
    "#V2 validates L3, V4 validates L5, V6 validates L7\n",
    "f16_l1 = pd.read_csv('data/F16Data_SineSw_Level1.csv')\n",
    "f16_l3 = pd.read_csv('data/F16Data_SineSw_Level3.csv')\n",
    "f16_l5 = pd.read_csv('data/F16Data_SineSw_Level5.csv')\n",
    "f16_l7 = pd.read_csv('data/F16Data_SineSw_Level7.csv')\n",
    "f16_v2 = pd.read_csv('data/F16Data_SineSw_Level2_Validation.csv')\n",
    "f16_v4 = pd.read_csv('data/F16Data_SineSw_Level4_Validation.csv')\n",
    "f16_v6 = pd.read_csv('data/F16Data_SineSw_Level6_Validation.csv')"
   ]
  },
  {
   "cell_type": "markdown",
   "id": "0a304a46",
   "metadata": {},
   "source": [
    "Force: Actual force provided by the shaker and measured at the excitation location  \n",
    "Voltage: Acting as a reference input  \n",
    "Acceleration 1: Excitation Location  \n",
    "Acceleration 2: Right wing, next to the nonlinear interface of interest  \n",
    "Acceleration 3: On payload, next to the nonlinear interface of interest  \n",
    "Fs: Ignore   \n",
    "Unnamed: 6: Ignore   "
   ]
  },
  {
   "cell_type": "code",
   "execution_count": 23,
   "id": "39689132",
   "metadata": {},
   "outputs": [
    {
     "data": {
      "text/html": [
       "<div>\n",
       "<style scoped>\n",
       "    .dataframe tbody tr th:only-of-type {\n",
       "        vertical-align: middle;\n",
       "    }\n",
       "\n",
       "    .dataframe tbody tr th {\n",
       "        vertical-align: top;\n",
       "    }\n",
       "\n",
       "    .dataframe thead th {\n",
       "        text-align: right;\n",
       "    }\n",
       "</style>\n",
       "<table border=\"1\" class=\"dataframe\">\n",
       "  <thead>\n",
       "    <tr style=\"text-align: right;\">\n",
       "      <th></th>\n",
       "      <th>Force</th>\n",
       "      <th>Voltage</th>\n",
       "      <th>Acceleration1</th>\n",
       "      <th>Acceleration2</th>\n",
       "      <th>Acceleration3</th>\n",
       "      <th>Fs</th>\n",
       "      <th>Unnamed: 6</th>\n",
       "    </tr>\n",
       "  </thead>\n",
       "  <tbody>\n",
       "    <tr>\n",
       "      <th>0</th>\n",
       "      <td>-0.028700</td>\n",
       "      <td>-0.000664</td>\n",
       "      <td>0.012759</td>\n",
       "      <td>-0.003615</td>\n",
       "      <td>-0.010020</td>\n",
       "      <td>400.0</td>\n",
       "      <td>NaN</td>\n",
       "    </tr>\n",
       "    <tr>\n",
       "      <th>1</th>\n",
       "      <td>-0.029994</td>\n",
       "      <td>-0.000662</td>\n",
       "      <td>0.005856</td>\n",
       "      <td>-0.004477</td>\n",
       "      <td>-0.003615</td>\n",
       "      <td>NaN</td>\n",
       "      <td>NaN</td>\n",
       "    </tr>\n",
       "    <tr>\n",
       "      <th>2</th>\n",
       "      <td>-0.130010</td>\n",
       "      <td>-0.000666</td>\n",
       "      <td>0.011924</td>\n",
       "      <td>-0.003448</td>\n",
       "      <td>-0.008535</td>\n",
       "      <td>NaN</td>\n",
       "      <td>NaN</td>\n",
       "    </tr>\n",
       "    <tr>\n",
       "      <th>3</th>\n",
       "      <td>-0.065006</td>\n",
       "      <td>-0.000664</td>\n",
       "      <td>0.015735</td>\n",
       "      <td>-0.005794</td>\n",
       "      <td>-0.009900</td>\n",
       "      <td>NaN</td>\n",
       "      <td>NaN</td>\n",
       "    </tr>\n",
       "    <tr>\n",
       "      <th>4</th>\n",
       "      <td>-0.060528</td>\n",
       "      <td>-0.000664</td>\n",
       "      <td>0.011713</td>\n",
       "      <td>-0.005291</td>\n",
       "      <td>-0.003998</td>\n",
       "      <td>NaN</td>\n",
       "      <td>NaN</td>\n",
       "    </tr>\n",
       "    <tr>\n",
       "      <th>...</th>\n",
       "      <td>...</td>\n",
       "      <td>...</td>\n",
       "      <td>...</td>\n",
       "      <td>...</td>\n",
       "      <td>...</td>\n",
       "      <td>...</td>\n",
       "      <td>...</td>\n",
       "    </tr>\n",
       "    <tr>\n",
       "      <th>108472</th>\n",
       "      <td>0.000000</td>\n",
       "      <td>0.000000</td>\n",
       "      <td>0.000000</td>\n",
       "      <td>0.000000</td>\n",
       "      <td>0.000000</td>\n",
       "      <td>NaN</td>\n",
       "      <td>NaN</td>\n",
       "    </tr>\n",
       "    <tr>\n",
       "      <th>108473</th>\n",
       "      <td>0.000000</td>\n",
       "      <td>0.000000</td>\n",
       "      <td>0.000000</td>\n",
       "      <td>0.000000</td>\n",
       "      <td>0.000000</td>\n",
       "      <td>NaN</td>\n",
       "      <td>NaN</td>\n",
       "    </tr>\n",
       "    <tr>\n",
       "      <th>108474</th>\n",
       "      <td>0.000000</td>\n",
       "      <td>0.000000</td>\n",
       "      <td>0.000000</td>\n",
       "      <td>0.000000</td>\n",
       "      <td>0.000000</td>\n",
       "      <td>NaN</td>\n",
       "      <td>NaN</td>\n",
       "    </tr>\n",
       "    <tr>\n",
       "      <th>108475</th>\n",
       "      <td>0.000000</td>\n",
       "      <td>0.000000</td>\n",
       "      <td>0.000000</td>\n",
       "      <td>0.000000</td>\n",
       "      <td>0.000000</td>\n",
       "      <td>NaN</td>\n",
       "      <td>NaN</td>\n",
       "    </tr>\n",
       "    <tr>\n",
       "      <th>108476</th>\n",
       "      <td>0.000000</td>\n",
       "      <td>0.000000</td>\n",
       "      <td>0.000000</td>\n",
       "      <td>0.000000</td>\n",
       "      <td>0.000000</td>\n",
       "      <td>NaN</td>\n",
       "      <td>NaN</td>\n",
       "    </tr>\n",
       "  </tbody>\n",
       "</table>\n",
       "<p>108477 rows × 7 columns</p>\n",
       "</div>"
      ],
      "text/plain": [
       "           Force   Voltage  Acceleration1  Acceleration2  Acceleration3  \\\n",
       "0      -0.028700 -0.000664       0.012759      -0.003615      -0.010020   \n",
       "1      -0.029994 -0.000662       0.005856      -0.004477      -0.003615   \n",
       "2      -0.130010 -0.000666       0.011924      -0.003448      -0.008535   \n",
       "3      -0.065006 -0.000664       0.015735      -0.005794      -0.009900   \n",
       "4      -0.060528 -0.000664       0.011713      -0.005291      -0.003998   \n",
       "...          ...       ...            ...            ...            ...   \n",
       "108472  0.000000  0.000000       0.000000       0.000000       0.000000   \n",
       "108473  0.000000  0.000000       0.000000       0.000000       0.000000   \n",
       "108474  0.000000  0.000000       0.000000       0.000000       0.000000   \n",
       "108475  0.000000  0.000000       0.000000       0.000000       0.000000   \n",
       "108476  0.000000  0.000000       0.000000       0.000000       0.000000   \n",
       "\n",
       "           Fs  Unnamed: 6  \n",
       "0       400.0         NaN  \n",
       "1         NaN         NaN  \n",
       "2         NaN         NaN  \n",
       "3         NaN         NaN  \n",
       "4         NaN         NaN  \n",
       "...       ...         ...  \n",
       "108472    NaN         NaN  \n",
       "108473    NaN         NaN  \n",
       "108474    NaN         NaN  \n",
       "108475    NaN         NaN  \n",
       "108476    NaN         NaN  \n",
       "\n",
       "[108477 rows x 7 columns]"
      ]
     },
     "execution_count": 23,
     "metadata": {},
     "output_type": "execute_result"
    }
   ],
   "source": [
    "f16_l1"
   ]
  },
  {
   "cell_type": "code",
   "execution_count": 24,
   "id": "hearing-favorite",
   "metadata": {},
   "outputs": [
    {
     "data": {
      "text/plain": [
       "108477"
      ]
     },
     "execution_count": 24,
     "metadata": {},
     "output_type": "execute_result"
    }
   ],
   "source": [
    "#All of the last column is NaN\n",
    "f16_l3['Unnamed: 6'].isna().sum()"
   ]
  },
  {
   "cell_type": "code",
   "execution_count": 25,
   "id": "537f36ed",
   "metadata": {},
   "outputs": [
    {
     "data": {
      "text/plain": [
       "108476"
      ]
     },
     "execution_count": 25,
     "metadata": {},
     "output_type": "execute_result"
    }
   ],
   "source": [
    "#All of column Fs is NaN except for the first row\n",
    "f16_l3['Fs'].isna().sum()"
   ]
  },
  {
   "cell_type": "code",
   "execution_count": 26,
   "id": "norwegian-raise",
   "metadata": {},
   "outputs": [
    {
     "data": {
      "text/html": [
       "<div>\n",
       "<style scoped>\n",
       "    .dataframe tbody tr th:only-of-type {\n",
       "        vertical-align: middle;\n",
       "    }\n",
       "\n",
       "    .dataframe tbody tr th {\n",
       "        vertical-align: top;\n",
       "    }\n",
       "\n",
       "    .dataframe thead th {\n",
       "        text-align: right;\n",
       "    }\n",
       "</style>\n",
       "<table border=\"1\" class=\"dataframe\">\n",
       "  <thead>\n",
       "    <tr style=\"text-align: right;\">\n",
       "      <th></th>\n",
       "      <th>Force</th>\n",
       "      <th>Voltage</th>\n",
       "      <th>Acceleration1</th>\n",
       "      <th>Acceleration2</th>\n",
       "      <th>Acceleration3</th>\n",
       "      <th>Fs</th>\n",
       "      <th>Unnamed: 6</th>\n",
       "    </tr>\n",
       "  </thead>\n",
       "  <tbody>\n",
       "    <tr>\n",
       "      <th>0</th>\n",
       "      <td>0.022550</td>\n",
       "      <td>0.000002</td>\n",
       "      <td>0.002223</td>\n",
       "      <td>-0.002586</td>\n",
       "      <td>0.000862</td>\n",
       "      <td>400.0</td>\n",
       "      <td>NaN</td>\n",
       "    </tr>\n",
       "    <tr>\n",
       "      <th>1</th>\n",
       "      <td>-0.006797</td>\n",
       "      <td>-0.000016</td>\n",
       "      <td>-0.003551</td>\n",
       "      <td>-0.002059</td>\n",
       "      <td>0.004812</td>\n",
       "      <td>NaN</td>\n",
       "      <td>NaN</td>\n",
       "    </tr>\n",
       "    <tr>\n",
       "      <th>2</th>\n",
       "      <td>-0.081028</td>\n",
       "      <td>-0.000027</td>\n",
       "      <td>0.001411</td>\n",
       "      <td>-0.002873</td>\n",
       "      <td>0.000419</td>\n",
       "      <td>NaN</td>\n",
       "      <td>NaN</td>\n",
       "    </tr>\n",
       "    <tr>\n",
       "      <th>3</th>\n",
       "      <td>-0.004154</td>\n",
       "      <td>-0.000022</td>\n",
       "      <td>0.001976</td>\n",
       "      <td>-0.003280</td>\n",
       "      <td>0.001077</td>\n",
       "      <td>NaN</td>\n",
       "      <td>NaN</td>\n",
       "    </tr>\n",
       "    <tr>\n",
       "      <th>4</th>\n",
       "      <td>-0.027081</td>\n",
       "      <td>-0.000010</td>\n",
       "      <td>0.000388</td>\n",
       "      <td>-0.004094</td>\n",
       "      <td>0.005207</td>\n",
       "      <td>NaN</td>\n",
       "      <td>NaN</td>\n",
       "    </tr>\n",
       "    <tr>\n",
       "      <th>...</th>\n",
       "      <td>...</td>\n",
       "      <td>...</td>\n",
       "      <td>...</td>\n",
       "      <td>...</td>\n",
       "      <td>...</td>\n",
       "      <td>...</td>\n",
       "      <td>...</td>\n",
       "    </tr>\n",
       "    <tr>\n",
       "      <th>108472</th>\n",
       "      <td>0.000000</td>\n",
       "      <td>0.000000</td>\n",
       "      <td>0.000000</td>\n",
       "      <td>0.000000</td>\n",
       "      <td>0.000000</td>\n",
       "      <td>NaN</td>\n",
       "      <td>NaN</td>\n",
       "    </tr>\n",
       "    <tr>\n",
       "      <th>108473</th>\n",
       "      <td>0.000000</td>\n",
       "      <td>0.000000</td>\n",
       "      <td>0.000000</td>\n",
       "      <td>0.000000</td>\n",
       "      <td>0.000000</td>\n",
       "      <td>NaN</td>\n",
       "      <td>NaN</td>\n",
       "    </tr>\n",
       "    <tr>\n",
       "      <th>108474</th>\n",
       "      <td>0.000000</td>\n",
       "      <td>0.000000</td>\n",
       "      <td>0.000000</td>\n",
       "      <td>0.000000</td>\n",
       "      <td>0.000000</td>\n",
       "      <td>NaN</td>\n",
       "      <td>NaN</td>\n",
       "    </tr>\n",
       "    <tr>\n",
       "      <th>108475</th>\n",
       "      <td>0.000000</td>\n",
       "      <td>0.000000</td>\n",
       "      <td>0.000000</td>\n",
       "      <td>0.000000</td>\n",
       "      <td>0.000000</td>\n",
       "      <td>NaN</td>\n",
       "      <td>NaN</td>\n",
       "    </tr>\n",
       "    <tr>\n",
       "      <th>108476</th>\n",
       "      <td>0.000000</td>\n",
       "      <td>0.000000</td>\n",
       "      <td>0.000000</td>\n",
       "      <td>0.000000</td>\n",
       "      <td>0.000000</td>\n",
       "      <td>NaN</td>\n",
       "      <td>NaN</td>\n",
       "    </tr>\n",
       "  </tbody>\n",
       "</table>\n",
       "<p>108477 rows × 7 columns</p>\n",
       "</div>"
      ],
      "text/plain": [
       "           Force   Voltage  Acceleration1  Acceleration2  Acceleration3  \\\n",
       "0       0.022550  0.000002       0.002223      -0.002586       0.000862   \n",
       "1      -0.006797 -0.000016      -0.003551      -0.002059       0.004812   \n",
       "2      -0.081028 -0.000027       0.001411      -0.002873       0.000419   \n",
       "3      -0.004154 -0.000022       0.001976      -0.003280       0.001077   \n",
       "4      -0.027081 -0.000010       0.000388      -0.004094       0.005207   \n",
       "...          ...       ...            ...            ...            ...   \n",
       "108472  0.000000  0.000000       0.000000       0.000000       0.000000   \n",
       "108473  0.000000  0.000000       0.000000       0.000000       0.000000   \n",
       "108474  0.000000  0.000000       0.000000       0.000000       0.000000   \n",
       "108475  0.000000  0.000000       0.000000       0.000000       0.000000   \n",
       "108476  0.000000  0.000000       0.000000       0.000000       0.000000   \n",
       "\n",
       "           Fs  Unnamed: 6  \n",
       "0       400.0         NaN  \n",
       "1         NaN         NaN  \n",
       "2         NaN         NaN  \n",
       "3         NaN         NaN  \n",
       "4         NaN         NaN  \n",
       "...       ...         ...  \n",
       "108472    NaN         NaN  \n",
       "108473    NaN         NaN  \n",
       "108474    NaN         NaN  \n",
       "108475    NaN         NaN  \n",
       "108476    NaN         NaN  \n",
       "\n",
       "[108477 rows x 7 columns]"
      ]
     },
     "execution_count": 26,
     "metadata": {},
     "output_type": "execute_result"
    }
   ],
   "source": [
    "f16_v2"
   ]
  },
  {
   "cell_type": "code",
   "execution_count": 27,
   "id": "c7deddb7",
   "metadata": {},
   "outputs": [
    {
     "data": {
      "text/plain": [
       "108477"
      ]
     },
     "execution_count": 27,
     "metadata": {},
     "output_type": "execute_result"
    }
   ],
   "source": [
    "#All of the last column is NaN\n",
    "f16_v2['Unnamed: 6'].isna().sum()"
   ]
  },
  {
   "cell_type": "code",
   "execution_count": 28,
   "id": "dated-cholesterol",
   "metadata": {},
   "outputs": [
    {
     "data": {
      "text/plain": [
       "108476"
      ]
     },
     "execution_count": 28,
     "metadata": {},
     "output_type": "execute_result"
    }
   ],
   "source": [
    "#All of column Fs is NaN except for the first row\n",
    "f16_v2['Fs'].isna().sum()"
   ]
  },
  {
   "cell_type": "code",
   "execution_count": 29,
   "id": "legislative-mumbai",
   "metadata": {},
   "outputs": [],
   "source": [
    "#Drops the useless columns\n",
    "f16_l1.drop(['Fs', 'Unnamed: 6'], axis = 1, inplace = True)\n",
    "f16_l3.drop(['Fs', 'Unnamed: 6'], axis = 1, inplace = True)\n",
    "f16_v2.drop(['Fs', 'Unnamed: 6'], axis = 1, inplace = True)"
   ]
  },
  {
   "cell_type": "code",
   "execution_count": 30,
   "id": "direct-writer",
   "metadata": {},
   "outputs": [],
   "source": [
    "f16_l3 = f16_l3[f16_l3['Force'] != 0.0]"
   ]
  },
  {
   "cell_type": "code",
   "execution_count": 31,
   "id": "caroline-working",
   "metadata": {},
   "outputs": [],
   "source": [
    "f16_l3 = f16_l3[f16_l3['Acceleration3'] != 0.0]"
   ]
  },
  {
   "cell_type": "code",
   "execution_count": 32,
   "id": "legislative-technician",
   "metadata": {},
   "outputs": [],
   "source": [
    "f16_l3 = f16_l3[['Force', 'Acceleration3']]"
   ]
  },
  {
   "cell_type": "code",
   "execution_count": 33,
   "id": "musical-gambling",
   "metadata": {},
   "outputs": [],
   "source": [
    "f16_l1 = f16_l1[f16_l1['Force'] != 0.0]"
   ]
  },
  {
   "cell_type": "code",
   "execution_count": 34,
   "id": "improved-elevation",
   "metadata": {},
   "outputs": [],
   "source": [
    "f16_l1 = f16_l1[f16_l1['Acceleration3'] != 0.0]"
   ]
  },
  {
   "cell_type": "code",
   "execution_count": 36,
   "id": "83bd0f2c",
   "metadata": {},
   "outputs": [],
   "source": [
    "f16_l1 = f16_l1[['Force', 'Acceleration3']]"
   ]
  },
  {
   "cell_type": "code",
   "execution_count": 37,
   "id": "reported-joseph",
   "metadata": {},
   "outputs": [],
   "source": [
    "f16_l1.to_csv('data/f16_l1.csv', index = False)\n",
    "f16_l3.to_csv('data/f16_l3.csv', index = False)"
   ]
  },
  {
   "cell_type": "code",
   "execution_count": 38,
   "id": "f14e0f46",
   "metadata": {},
   "outputs": [],
   "source": [
    "#Verify\n",
    "temp = pd.read_csv('data/f16_l1.csv')"
   ]
  },
  {
   "cell_type": "code",
   "execution_count": 40,
   "id": "934d7490",
   "metadata": {},
   "outputs": [
    {
     "data": {
      "text/plain": [
       "array([[<AxesSubplot:title={'center':'Force'}>,\n",
       "        <AxesSubplot:title={'center':'Acceleration3'}>]], dtype=object)"
      ]
     },
     "execution_count": 40,
     "metadata": {},
     "output_type": "execute_result"
    },
    {
     "data": {
      "image/png": "[encoded data removed]",
      "text/plain": [
       "<Figure size 432x288 with 2 Axes>"
      ]
     },
     "metadata": {
      "needs_background": "light"
     },
     "output_type": "display_data"
    }
   ],
   "source": [
    "f16_l1.hist()"
   ]
  },
  {
   "cell_type": "code",
   "execution_count": 41,
   "id": "9907cf9b",
   "metadata": {},
   "outputs": [
    {
     "data": {
      "text/plain": [
       "array([[<AxesSubplot:title={'center':'Force'}>,\n",
       "        <AxesSubplot:title={'center':'Acceleration3'}>]], dtype=object)"
      ]
     },
     "execution_count": 41,
     "metadata": {},
     "output_type": "execute_result"
    },
    {
     "data": {
      "image/png": "[encoded data removed]",
      "text/plain": [
       "<Figure size 432x288 with 2 Axes>"
      ]
     },
     "metadata": {
      "needs_background": "light"
     },
     "output_type": "display_data"
    }
   ],
   "source": [
    "f16_l3.hist()"
   ]
  }
 ],
 "metadata": {
  "kernelspec": {
   "display_name": "Python 3",
   "language": "python",
   "name": "python3"
  },
  "language_info": {
   "codemirror_mode": {
    "name": "ipython",
    "version": 3
   },
   "file_extension": ".py",
   "mimetype": "text/x-python",
   "name": "python",
   "nbconvert_exporter": "python",
   "pygments_lexer": "ipython3",
   "version": "3.9.5"
  }
 },
 "nbformat": 4,
 "nbformat_minor": 5
}
