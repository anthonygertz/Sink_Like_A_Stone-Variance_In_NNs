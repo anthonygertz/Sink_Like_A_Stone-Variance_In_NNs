{
 "cells": [
  {
   "cell_type": "code",
   "execution_count": 1,
   "id": "moving-necklace",
   "metadata": {},
   "outputs": [],
   "source": [
    "import pandas as pd\n",
    "import numpy as np\n",
    "import matplotlib.pyplot as plt\n",
    "\n",
    "from datetime import datetime \n",
    "import time\n",
    "\n",
    "import warnings\n",
    "warnings.filterwarnings('ignore',category=FutureWarning)\n",
    "\n",
    "from sklearn.model_selection import RandomizedSearchCV\n",
    "from sklearn.model_selection import RepeatedStratifiedKFold\n",
    "from sklearn.model_selection import train_test_split\n",
    "from sklearn.metrics import mean_absolute_error\n",
    "from sklearn.metrics import mean_squared_error\n",
    "from sklearn.preprocessing import PowerTransformer, MinMaxScaler, PolynomialFeatures\n",
    "from sklearn.compose import ColumnTransformer, TransformedTargetRegressor\n",
    "from sklearn.pipeline import Pipeline\n",
    "\n",
    "import tensorflow as tf\n",
    "from tensorflow import keras\n",
    "\n",
    "from tensorflow.keras.layers import Dense\n",
    "from tensorflow.keras import layers\n",
    "from tensorflow.keras.models import Sequential, load_model\n",
    "#from tensorflow.keras.utils import multi_gpu_model"
   ]
  },
  {
   "cell_type": "code",
   "execution_count": 2,
   "id": "a7b80612",
   "metadata": {},
   "outputs": [],
   "source": [
    "pd.set_option('display.max_columns', 500)"
   ]
  },
  {
   "cell_type": "code",
   "execution_count": 3,
   "id": "absolute-lyric",
   "metadata": {},
   "outputs": [
    {
     "data": {
      "text/plain": [
       "[PhysicalDevice(name='/physical_device:GPU:0', device_type='GPU'),\n",
       " PhysicalDevice(name='/physical_device:GPU:1', device_type='GPU')]"
      ]
     },
     "execution_count": 3,
     "metadata": {},
     "output_type": "execute_result"
    }
   ],
   "source": [
    "tf.config.list_physical_devices('GPU')"
   ]
  },
  {
   "cell_type": "code",
   "execution_count": 4,
   "id": "hearing-favorite",
   "metadata": {},
   "outputs": [
    {
     "data": {
      "text/plain": [
       "[PhysicalDevice(name='/physical_device:CPU:0', device_type='CPU'),\n",
       " PhysicalDevice(name='/physical_device:XLA_CPU:0', device_type='XLA_CPU'),\n",
       " PhysicalDevice(name='/physical_device:GPU:0', device_type='GPU'),\n",
       " PhysicalDevice(name='/physical_device:GPU:1', device_type='GPU'),\n",
       " PhysicalDevice(name='/physical_device:XLA_GPU:0', device_type='XLA_GPU'),\n",
       " PhysicalDevice(name='/physical_device:XLA_GPU:1', device_type='XLA_GPU')]"
      ]
     },
     "execution_count": 4,
     "metadata": {},
     "output_type": "execute_result"
    }
   ],
   "source": [
    "tf.config.experimental.list_physical_devices(device_type = None)"
   ]
  },
  {
   "cell_type": "code",
   "execution_count": null,
   "id": "norwegian-raise",
   "metadata": {},
   "outputs": [],
   "source": []
  },
  {
   "cell_type": "code",
   "execution_count": 5,
   "id": "c7deddb7",
   "metadata": {},
   "outputs": [],
   "source": [
    "#TF_XLA_FLAGS=--tf_xla_auto_jit=2 path/to/your/tf/program"
   ]
  },
  {
   "cell_type": "code",
   "execution_count": 6,
   "id": "dated-cholesterol",
   "metadata": {},
   "outputs": [],
   "source": [
    "#CUDA_VISIBLE_DEVICES = 0"
   ]
  },
  {
   "cell_type": "code",
   "execution_count": 7,
   "id": "legislative-mumbai",
   "metadata": {},
   "outputs": [],
   "source": [
    "train = pd.read_csv('data/train.csv')\n",
    "test = pd.read_csv('data/test.csv')"
   ]
  },
  {
   "cell_type": "code",
   "execution_count": 8,
   "id": "direct-writer",
   "metadata": {},
   "outputs": [],
   "source": [
    "full_columns = train.columns.tolist()"
   ]
  },
  {
   "cell_type": "code",
   "execution_count": 9,
   "id": "caroline-working",
   "metadata": {},
   "outputs": [],
   "source": [
    "full_columns.remove('permeability')"
   ]
  },
  {
   "cell_type": "code",
   "execution_count": 10,
   "id": "legislative-technician",
   "metadata": {},
   "outputs": [],
   "source": [
    "X = pd.DataFrame(train, columns = full_columns)\n",
    "\n",
    "y = train['permeability']"
   ]
  },
  {
   "cell_type": "code",
   "execution_count": 11,
   "id": "musical-gambling",
   "metadata": {},
   "outputs": [],
   "source": [
    "X_train, X_test, y_train, y_test = train_test_split(\n",
    "    X, y, random_state = 8669, test_size = 0.30\n",
    ")"
   ]
  },
  {
   "cell_type": "code",
   "execution_count": 12,
   "id": "improved-elevation",
   "metadata": {},
   "outputs": [],
   "source": [
    "ct = ColumnTransformer(transformers = [\n",
    "    ('yeo-johnson', PowerTransformer(), full_columns),\n",
    "], remainder = 'passthrough')\n",
    "\n",
    "pipe = Pipeline(steps = [\n",
    "    ('transform', ct),\n",
    "    ('scale', MinMaxScaler())\n",
    "])"
   ]
  },
  {
   "cell_type": "code",
   "execution_count": 13,
   "id": "broken-enough",
   "metadata": {},
   "outputs": [],
   "source": [
    "X_train = pipe.fit_transform(X_train)\n",
    "X_test = pipe.transform(X_test)"
   ]
  },
  {
   "cell_type": "code",
   "execution_count": 15,
   "id": "20e2bdda",
   "metadata": {},
   "outputs": [],
   "source": [
    "#strategy = tf.distribute.MirroredStrategy(devices=[\"/gpu:0\", \"/gpu:1\"], \n",
    "                                          #cross_device_ops=tf.distribute.HierarchicalCopyAllReduce())\n",
    "                                          #cross_device_ops=tf.distribute.ReductionToOneDevice())\n",
    "   \n",
    "\n"
   ]
  },
  {
   "cell_type": "code",
   "execution_count": 31,
   "id": "13d4451f",
   "metadata": {},
   "outputs": [
    {
     "name": "stdout",
     "output_type": "stream",
     "text": [
      "WARNING:tensorflow:Collective ops is not configured at program startup. Some performance features may not be enabled.\n",
      "INFO:tensorflow:Using MirroredStrategy with devices ('/job:localhost/replica:0/task:0/device:GPU:0',)\n"
     ]
    }
   ],
   "source": [
    "cross_tower_ops = tf.distribute.HierarchicalCopyAllReduce(num_packs = 1)\n",
    "\n",
    "strategy = tf.distribute.MirroredStrategy(devices = ['/gpu:0'], cross_device_ops = cross_tower_ops)"
   ]
  },
  {
   "cell_type": "code",
   "execution_count": 32,
   "id": "bronze-cleaner",
   "metadata": {},
   "outputs": [],
   "source": [
    "with strategy.scope():\n",
    "#with tf.device('/gpu:0'):\n",
    "    model = Sequential()\n",
    "\n",
    "    #model.add(Dense(64,activation=ks.layers.LeakyReLU(alpha = 0.01)))\n",
    "    model.add(Dense(32, activation = 'relu'))\n",
    "    model.add(Dense(32, activation = 'relu'))\n",
    "    model.add(Dense(1, activation='linear'))\n",
    "    \n",
    "    model.compile(loss = 'mean_squared_error', optimizer = 'adam', metrics = ['mse'])"
   ]
  },
  {
   "cell_type": "code",
   "execution_count": null,
   "id": "a5204f20",
   "metadata": {},
   "outputs": [],
   "source": []
  },
  {
   "cell_type": "code",
   "execution_count": null,
   "id": "75867923",
   "metadata": {},
   "outputs": [],
   "source": []
  },
  {
   "cell_type": "code",
   "execution_count": null,
   "id": "b6b18d19",
   "metadata": {},
   "outputs": [],
   "source": []
  },
  {
   "cell_type": "code",
   "execution_count": null,
   "id": "8f62b4be",
   "metadata": {},
   "outputs": [],
   "source": []
  },
  {
   "cell_type": "code",
   "execution_count": null,
   "id": "7a55652b",
   "metadata": {},
   "outputs": [],
   "source": []
  },
  {
   "cell_type": "code",
   "execution_count": null,
   "id": "7620f126",
   "metadata": {},
   "outputs": [],
   "source": []
  },
  {
   "cell_type": "code",
   "execution_count": null,
   "id": "9e9ae1f2",
   "metadata": {},
   "outputs": [],
   "source": []
  },
  {
   "cell_type": "code",
   "execution_count": 86,
   "id": "detailed-defendant",
   "metadata": {},
   "outputs": [],
   "source": [
    "#es = EarlyStopping(monitor = 'loss', patience = 25, restore_best_weights = True)\n",
    "#mc = ModelCheckpoint(filepath = 'test_model.h5', monitor = 'loss', save_best_only=True)\n",
    "#X_es_train, X_es_test, y_es_train, y_es_test = train_test_split(X_train, y_train, test_size = 0.25, random_state = 8669)"
   ]
  },
  {
   "cell_type": "code",
   "execution_count": null,
   "id": "documented-antigua",
   "metadata": {},
   "outputs": [],
   "source": []
  },
  {
   "cell_type": "code",
   "execution_count": 87,
   "id": "e7cdf4e6",
   "metadata": {},
   "outputs": [],
   "source": [
    "#Creates a dataframe by which we will eventually put in our list created above\n",
    "#model_record = pd.DataFrame(columns = ['model_num','time','mae','mse'])"
   ]
  },
  {
   "cell_type": "code",
   "execution_count": 108,
   "id": "728eb3ae",
   "metadata": {},
   "outputs": [],
   "source": [
    "#Declares a start time to began keeping time\n",
    "start_time = datetime.now()\n",
    "\n",
    "#Temporary list to hold values of the recorded time and other model values\n",
    "record_list = list()"
   ]
  },
  {
   "cell_type": "code",
   "execution_count": 33,
   "id": "welsh-posting",
   "metadata": {
    "scrolled": true
   },
   "outputs": [
    {
     "name": "stdout",
     "output_type": "stream",
     "text": [
      "Epoch 1/5\n",
      "274/274 [==============================] - 3s 3ms/step - loss: 21.1050 - mse: 21.1050\n",
      "Epoch 2/5\n",
      "274/274 [==============================] - 1s 3ms/step - loss: 3.1573 - mse: 3.1573\n",
      "Epoch 3/5\n",
      "274/274 [==============================] - 1s 3ms/step - loss: 2.1538 - mse: 2.1538\n",
      "Epoch 4/5\n",
      "274/274 [==============================] - 1s 3ms/step - loss: 1.8249 - mse: 1.8249\n",
      "Epoch 5/5\n",
      "274/274 [==============================] - 1s 3ms/step - loss: 1.7719 - mse: 1.7719\n"
     ]
    }
   ],
   "source": [
    "#with tf.device('/gpu:0'):\n",
    "history = model.fit(x = X_train,y = y_train.values,\n",
    "                          batch_size = 64, epochs = 5)"
   ]
  },
  {
   "cell_type": "code",
   "execution_count": 111,
   "id": "accredited-berkeley",
   "metadata": {},
   "outputs": [],
   "source": [
    "record_list.extend([len(model_record)+1, \n",
    "                    format(datetime.now() - start_time), \n",
    "                    mean_absolute_error(y_test, model.predict(X_test)), \n",
    "                    mean_squared_error(y_test, model.predict(X_test))\n",
    "                   ])"
   ]
  },
  {
   "cell_type": "code",
   "execution_count": 112,
   "id": "ce845589",
   "metadata": {},
   "outputs": [],
   "source": [
    "model_record.loc[len(model_record)] = record_list"
   ]
  },
  {
   "cell_type": "code",
   "execution_count": 113,
   "id": "4067b3f4",
   "metadata": {},
   "outputs": [
    {
     "data": {
      "text/plain": [
       "[8, '0:00:46.734354', 0.3844177726690221, 0.8535248534165079]"
      ]
     },
     "execution_count": 113,
     "metadata": {},
     "output_type": "execute_result"
    }
   ],
   "source": [
    "record_list"
   ]
  },
  {
   "cell_type": "code",
   "execution_count": 114,
   "id": "986a7be8",
   "metadata": {},
   "outputs": [
    {
     "data": {
      "text/html": [
       "<div>\n",
       "<style scoped>\n",
       "    .dataframe tbody tr th:only-of-type {\n",
       "        vertical-align: middle;\n",
       "    }\n",
       "\n",
       "    .dataframe tbody tr th {\n",
       "        vertical-align: top;\n",
       "    }\n",
       "\n",
       "    .dataframe thead th {\n",
       "        text-align: right;\n",
       "    }\n",
       "</style>\n",
       "<table border=\"1\" class=\"dataframe\">\n",
       "  <thead>\n",
       "    <tr style=\"text-align: right;\">\n",
       "      <th></th>\n",
       "      <th>model_num</th>\n",
       "      <th>time</th>\n",
       "      <th>mae</th>\n",
       "      <th>mse</th>\n",
       "    </tr>\n",
       "  </thead>\n",
       "  <tbody>\n",
       "    <tr>\n",
       "      <th>0</th>\n",
       "      <td>1</td>\n",
       "      <td>0:06:31.783906</td>\n",
       "      <td>0.354856</td>\n",
       "      <td>0.878008</td>\n",
       "    </tr>\n",
       "    <tr>\n",
       "      <th>1</th>\n",
       "      <td>2</td>\n",
       "      <td>0:00:36.668682</td>\n",
       "      <td>0.336185</td>\n",
       "      <td>0.804366</td>\n",
       "    </tr>\n",
       "    <tr>\n",
       "      <th>2</th>\n",
       "      <td>3</td>\n",
       "      <td>0:00:45.524226</td>\n",
       "      <td>0.430420</td>\n",
       "      <td>1.027962</td>\n",
       "    </tr>\n",
       "    <tr>\n",
       "      <th>3</th>\n",
       "      <td>4</td>\n",
       "      <td>0:00:42.042400</td>\n",
       "      <td>0.464801</td>\n",
       "      <td>0.956097</td>\n",
       "    </tr>\n",
       "    <tr>\n",
       "      <th>4</th>\n",
       "      <td>5</td>\n",
       "      <td>0:00:46.762098</td>\n",
       "      <td>0.450020</td>\n",
       "      <td>1.096582</td>\n",
       "    </tr>\n",
       "    <tr>\n",
       "      <th>5</th>\n",
       "      <td>6</td>\n",
       "      <td>0:00:39.952118</td>\n",
       "      <td>0.409797</td>\n",
       "      <td>0.914438</td>\n",
       "    </tr>\n",
       "    <tr>\n",
       "      <th>6</th>\n",
       "      <td>7</td>\n",
       "      <td>0:00:16.768155</td>\n",
       "      <td>0.383027</td>\n",
       "      <td>0.897352</td>\n",
       "    </tr>\n",
       "    <tr>\n",
       "      <th>7</th>\n",
       "      <td>8</td>\n",
       "      <td>0:00:46.734354</td>\n",
       "      <td>0.384418</td>\n",
       "      <td>0.853525</td>\n",
       "    </tr>\n",
       "  </tbody>\n",
       "</table>\n",
       "</div>"
      ],
      "text/plain": [
       "  model_num            time       mae       mse\n",
       "0         1  0:06:31.783906  0.354856  0.878008\n",
       "1         2  0:00:36.668682  0.336185  0.804366\n",
       "2         3  0:00:45.524226  0.430420  1.027962\n",
       "3         4  0:00:42.042400  0.464801  0.956097\n",
       "4         5  0:00:46.762098  0.450020  1.096582\n",
       "5         6  0:00:39.952118  0.409797  0.914438\n",
       "6         7  0:00:16.768155  0.383027  0.897352\n",
       "7         8  0:00:46.734354  0.384418  0.853525"
      ]
     },
     "execution_count": 114,
     "metadata": {},
     "output_type": "execute_result"
    }
   ],
   "source": [
    "model_record"
   ]
  },
  {
   "cell_type": "code",
   "execution_count": null,
   "id": "196f835a",
   "metadata": {},
   "outputs": [],
   "source": []
  },
  {
   "cell_type": "code",
   "execution_count": null,
   "id": "ba5dddae",
   "metadata": {},
   "outputs": [],
   "source": []
  },
  {
   "cell_type": "code",
   "execution_count": null,
   "id": "f26de243",
   "metadata": {},
   "outputs": [],
   "source": []
  },
  {
   "cell_type": "code",
   "execution_count": 25,
   "id": "69ce9f89",
   "metadata": {},
   "outputs": [
    {
     "data": {
      "text/plain": [
       "0.47637357176152073"
      ]
     },
     "execution_count": 25,
     "metadata": {},
     "output_type": "execute_result"
    }
   ],
   "source": [
    "mean_absolute_error(y_test, model.predict(X_test))"
   ]
  },
  {
   "cell_type": "code",
   "execution_count": 26,
   "id": "built-january",
   "metadata": {},
   "outputs": [
    {
     "data": {
      "text/plain": [
       "1.0440733366503838"
      ]
     },
     "execution_count": 26,
     "metadata": {},
     "output_type": "execute_result"
    }
   ],
   "source": [
    "mean_squared_error(y_test, model.predict(X_test))"
   ]
  },
  {
   "cell_type": "code",
   "execution_count": 27,
   "id": "arctic-secretariat",
   "metadata": {},
   "outputs": [
    {
     "data": {
      "text/plain": [
       "0.08347928865435927"
      ]
     },
     "execution_count": 27,
     "metadata": {},
     "output_type": "execute_result"
    }
   ],
   "source": [
    "np.sqrt(mean_squared_error(np.log(y_test + 1), np.log(model.predict(X_test)+1)))"
   ]
  },
  {
   "cell_type": "markdown",
   "id": "d5c8864e",
   "metadata": {},
   "source": [
    "plt.figure(figsize = (10,6))\n",
    "\n",
    "plt.plot(history.history['mae'], label = 'Training MSE')\n",
    "plt.plot(history.history['val_mae'], label = 'Test MSE')\n",
    "plt.plot(history.history['loss'], label = 'Training MAE')\n",
    "plt.plot(history.history['val_loss'], label = 'Test MAE')\n",
    "\n",
    "plt.ylim(0, 1)\n",
    "plt.legend();"
   ]
  },
  {
   "cell_type": "code",
   "execution_count": null,
   "id": "sought-debut",
   "metadata": {},
   "outputs": [],
   "source": []
  },
  {
   "cell_type": "code",
   "execution_count": null,
   "id": "a8ba1e3c",
   "metadata": {},
   "outputs": [],
   "source": []
  },
  {
   "cell_type": "code",
   "execution_count": null,
   "id": "83f3c15d",
   "metadata": {},
   "outputs": [],
   "source": []
  },
  {
   "cell_type": "code",
   "execution_count": null,
   "id": "3f1cd8f2",
   "metadata": {},
   "outputs": [],
   "source": []
  },
  {
   "cell_type": "code",
   "execution_count": 28,
   "id": "7ea51477",
   "metadata": {},
   "outputs": [],
   "source": [
    "#X = pipe.fit_transform(X)"
   ]
  },
  {
   "cell_type": "code",
   "execution_count": 29,
   "id": "conscious-contemporary",
   "metadata": {},
   "outputs": [],
   "source": [
    "#test = pipe.transform(test)"
   ]
  },
  {
   "cell_type": "code",
   "execution_count": 30,
   "id": "later-ordinary",
   "metadata": {},
   "outputs": [],
   "source": [
    "#results = model.predict(test)"
   ]
  },
  {
   "cell_type": "code",
   "execution_count": 31,
   "id": "expanded-shade",
   "metadata": {},
   "outputs": [],
   "source": [
    "#results.shape"
   ]
  },
  {
   "cell_type": "code",
   "execution_count": 32,
   "id": "impossible-personal",
   "metadata": {},
   "outputs": [],
   "source": [
    "#test_results = pd.DataFrame()"
   ]
  },
  {
   "cell_type": "code",
   "execution_count": 33,
   "id": "finite-registration",
   "metadata": {},
   "outputs": [],
   "source": [
    "#results = pd.DataFrame(results)"
   ]
  },
  {
   "cell_type": "code",
   "execution_count": 34,
   "id": "useful-referral",
   "metadata": {},
   "outputs": [],
   "source": [
    "#test_results['permeability'] = results[0]"
   ]
  },
  {
   "cell_type": "code",
   "execution_count": 35,
   "id": "reported-joseph",
   "metadata": {},
   "outputs": [],
   "source": [
    "#test_results.to_csv('data/nn/nn_results_reproduce2.csv', index_label = 'id')"
   ]
  }
 ],
 "metadata": {
  "kernelspec": {
   "display_name": "Python 3",
   "language": "python",
   "name": "python3"
  },
  "language_info": {
   "codemirror_mode": {
    "name": "ipython",
    "version": 3
   },
   "file_extension": ".py",
   "mimetype": "text/x-python",
   "name": "python",
   "nbconvert_exporter": "python",
   "pygments_lexer": "ipython3",
   "version": "3.9.5"
  }
 },
 "nbformat": 4,
 "nbformat_minor": 5
}
