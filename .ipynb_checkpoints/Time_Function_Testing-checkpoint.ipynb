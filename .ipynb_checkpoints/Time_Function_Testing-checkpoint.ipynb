{
 "cells": [
  {
   "cell_type": "code",
   "execution_count": 1,
   "id": "e63b8902",
   "metadata": {},
   "outputs": [],
   "source": [
    "import pandas as pd\n",
    "import numpy as np\n",
    "\n",
    "from datetime import datetime \n",
    "import time"
   ]
  },
  {
   "cell_type": "code",
   "execution_count": 2,
   "id": "34f6ae98",
   "metadata": {},
   "outputs": [],
   "source": [
    "#Temporary list to hold values of the recorded time\n",
    "time_list = list()\n",
    "\n",
    "#Creates a dataframe by which we will eventually put in our list created above\n",
    "time_df = pd.DataFrame(columns = ['time'])\n",
    "\n",
    "#Sets the number of times we will run for loop/time recording function\n",
    "test_iterations = 10\n",
    "\n",
    "#Declares a start time to began keeping time\n",
    "start_time = datetime.now() "
   ]
  },
  {
   "cell_type": "code",
   "execution_count": 3,
   "id": "38ec3746",
   "metadata": {},
   "outputs": [],
   "source": [
    "#Defines a function that runs a timer for 3 seconds (time.sleep(i)) then appaneds a list with the total recorded time\n",
    "\n",
    "def save_time():\n",
    "    time.sleep(3)\n",
    "    time_list.append(format(datetime.now() - start_time))"
   ]
  },
  {
   "cell_type": "code",
   "execution_count": 4,
   "id": "51622481",
   "metadata": {},
   "outputs": [],
   "source": [
    "#For loop on the function save_time created above and runs the loop the number of times as defined in test_iterations\n",
    "\n",
    "for i in range(test_iterations): \n",
    "    save_time()"
   ]
  },
  {
   "cell_type": "code",
   "execution_count": 5,
   "id": "30ce9b22",
   "metadata": {},
   "outputs": [],
   "source": [
    "#Can be combined into one for loop if so desired\n",
    "#for i in range(test_iterations):\n",
    "#    time.sleep(3)\n",
    "#    time_list.append(format(datetime.now() - start_time))"
   ]
  },
  {
   "cell_type": "code",
   "execution_count": 6,
   "id": "11056f9d",
   "metadata": {},
   "outputs": [],
   "source": [
    "#Creates a dataframe from the list \n",
    "\n",
    "time_df = pd.DataFrame(time_list, columns = ['time'])"
   ]
  },
  {
   "cell_type": "code",
   "execution_count": 7,
   "id": "cc7cf8d9",
   "metadata": {},
   "outputs": [
    {
     "data": {
      "text/html": [
       "<div>\n",
       "<style scoped>\n",
       "    .dataframe tbody tr th:only-of-type {\n",
       "        vertical-align: middle;\n",
       "    }\n",
       "\n",
       "    .dataframe tbody tr th {\n",
       "        vertical-align: top;\n",
       "    }\n",
       "\n",
       "    .dataframe thead th {\n",
       "        text-align: right;\n",
       "    }\n",
       "</style>\n",
       "<table border=\"1\" class=\"dataframe\">\n",
       "  <thead>\n",
       "    <tr style=\"text-align: right;\">\n",
       "      <th></th>\n",
       "      <th>time</th>\n",
       "    </tr>\n",
       "  </thead>\n",
       "  <tbody>\n",
       "    <tr>\n",
       "      <th>0</th>\n",
       "      <td>0:00:03.040590</td>\n",
       "    </tr>\n",
       "    <tr>\n",
       "      <th>1</th>\n",
       "      <td>0:00:06.055034</td>\n",
       "    </tr>\n",
       "    <tr>\n",
       "      <th>2</th>\n",
       "      <td>0:00:09.062118</td>\n",
       "    </tr>\n",
       "    <tr>\n",
       "      <th>3</th>\n",
       "      <td>0:00:12.076170</td>\n",
       "    </tr>\n",
       "    <tr>\n",
       "      <th>4</th>\n",
       "      <td>0:00:15.081242</td>\n",
       "    </tr>\n",
       "    <tr>\n",
       "      <th>5</th>\n",
       "      <td>0:00:18.095281</td>\n",
       "    </tr>\n",
       "    <tr>\n",
       "      <th>6</th>\n",
       "      <td>0:00:21.098263</td>\n",
       "    </tr>\n",
       "    <tr>\n",
       "      <th>7</th>\n",
       "      <td>0:00:24.103953</td>\n",
       "    </tr>\n",
       "    <tr>\n",
       "      <th>8</th>\n",
       "      <td>0:00:27.105677</td>\n",
       "    </tr>\n",
       "    <tr>\n",
       "      <th>9</th>\n",
       "      <td>0:00:30.119551</td>\n",
       "    </tr>\n",
       "  </tbody>\n",
       "</table>\n",
       "</div>"
      ],
      "text/plain": [
       "             time\n",
       "0  0:00:03.040590\n",
       "1  0:00:06.055034\n",
       "2  0:00:09.062118\n",
       "3  0:00:12.076170\n",
       "4  0:00:15.081242\n",
       "5  0:00:18.095281\n",
       "6  0:00:21.098263\n",
       "7  0:00:24.103953\n",
       "8  0:00:27.105677\n",
       "9  0:00:30.119551"
      ]
     },
     "execution_count": 7,
     "metadata": {},
     "output_type": "execute_result"
    }
   ],
   "source": [
    "#Checks out!\n",
    "time_df"
   ]
  },
  {
   "cell_type": "code",
   "execution_count": 8,
   "id": "db4bb248",
   "metadata": {},
   "outputs": [],
   "source": [
    "#Old code\n",
    "\n",
    "\n",
    "#for i in temp:\n",
    "#    print(type(i))\n",
    "\n",
    "\n",
    "\n",
    "#print('Time elapsed (hh:mm:ss.ms) {}'.format(datetime.now() - start_time))\n",
    "\n",
    "#temp.append(format(datetime.now() - start_time))\n",
    "                     \n",
    "#time_df = time_df.append(format(datetime.now() - start_time))"
   ]
  }
 ],
 "metadata": {
  "kernelspec": {
   "display_name": "Python 3",
   "language": "python",
   "name": "python3"
  },
  "language_info": {
   "codemirror_mode": {
    "name": "ipython",
    "version": 3
   },
   "file_extension": ".py",
   "mimetype": "text/x-python",
   "name": "python",
   "nbconvert_exporter": "python",
   "pygments_lexer": "ipython3",
   "version": "3.9.5"
  }
 },
 "nbformat": 4,
 "nbformat_minor": 5
}
